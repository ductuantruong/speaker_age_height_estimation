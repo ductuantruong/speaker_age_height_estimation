{
 "cells": [
  {
   "cell_type": "code",
   "execution_count": 1,
   "id": "animal-stake",
   "metadata": {},
   "outputs": [
    {
     "name": "stderr",
     "output_type": "stream",
     "text": [
      "################################################################################\n",
      "### WARNING, path does not exist: KALDI_ROOT=/mnt/matylda5/iveselyk/Tools/kaldi-trunk\n",
      "###          (please add 'export KALDI_ROOT=<your_path>' in your $HOME/.profile)\n",
      "###          (or run as: KALDI_ROOT=<your_path> python <your_script>.py)\n",
      "################################################################################\n",
      "\n"
     ]
    }
   ],
   "source": [
    "from TIMIT.lightning_model_uncertainty_loss import LightningModel\n",
    "import os\n",
    "import pandas as pd\n",
    "import numpy as np\n",
    "import torch\n",
    "import torchaudio\n",
    "%matplotlib inline\n",
    "from matplotlib import pyplot as plt\n",
    "from sklearn.metrics import mean_absolute_error, mean_squared_error, accuracy_score\n",
    "from IPython import embed"
   ]
  },
  {
   "cell_type": "code",
   "execution_count": 2,
   "id": "solar-ferry",
   "metadata": {},
   "outputs": [
    {
     "name": "stderr",
     "output_type": "stream",
     "text": [
      "Using cache found in /root/.cache/torch/hub/s3prl_s3prl_master\n"
     ]
    },
    {
     "name": "stdout",
     "output_type": "stream",
     "text": [
      "[Downstream] can not import .sv_voxceleb1.expert: No module named 'utility'... Pass.\n",
      "Importing the dtw module. When using in academic works please cite:\n",
      "  T. Giorgino. Computing and Visualizing Dynamic Time Warping Alignments in R: The dtw Package.\n",
      "  J. Stat. Soft., doi:10.18637/jss.v031.i07.\n",
      "\n",
      "[hubconf] can not import .downstream.timit_phone.hubconf: No module named 'upstream'... Pass.\n",
      "Using cache found in /root/.cache/torch/hub/s3prl_cache/3a990c945fbe378df95598eec534e91ba22a5d9eab0b2f88777a7a696d1344e9\n",
      "for https://dl.fbaipublicfiles.com/fairseq/wav2vec/wav2vec_small.pt\n"
     ]
    },
    {
     "name": "stderr",
     "output_type": "stream",
     "text": [
      "/notebooks/s3prl_env/lib/python3.8/site-packages/deprecate/deprecation.py:115: LightningDeprecationWarning: The `MeanAbsoluteError` was deprecated since v1.3.0 in favor of `torchmetrics.regression.mean_absolute_error.MeanAbsoluteError`. It will be removed in v1.5.0.\n",
      "  stream(template_mgs % msg_args)\n",
      "/notebooks/s3prl_env/lib/python3.8/site-packages/deprecate/deprecation.py:115: LightningDeprecationWarning: The `Accuracy` was deprecated since v1.3.0 in favor of `torchmetrics.classification.accuracy.Accuracy`. It will be removed in v1.5.0.\n",
      "  stream(template_mgs % msg_args)\n"
     ]
    },
    {
     "name": "stdout",
     "output_type": "stream",
     "text": [
      "Model Details: #Params = 164364294\t#Trainable Params = 161212422\n",
      "\n"
     ]
    }
   ],
   "source": [
    "model_checkpoint = 'checkpoints/epoch=12-step=6369-v3.ckpt'\n",
    "model = LightningModel.load_from_checkpoint(model_checkpoint)\n",
    "model.to('cuda')\n",
    "model.eval()\n",
    "print()"
   ]
  },
  {
   "cell_type": "code",
   "execution_count": 3,
   "id": "alpine-coordination",
   "metadata": {},
   "outputs": [],
   "source": [
    "# model.model.transformer_encoder_M.layers[-5]"
   ]
  },
  {
   "cell_type": "code",
   "execution_count": 4,
   "id": "julian-lender",
   "metadata": {},
   "outputs": [
    {
     "name": "stdout",
     "output_type": "stream",
     "text": [
      "6301 1680\n"
     ]
    }
   ],
   "source": [
    "phnFiles = os.listdir('./TIMIT_Dataset/wav_data/phn')\n",
    "testWavFiles = os.listdir('./TIMIT_Dataset/wav_data/TEST')\n",
    "phnFiles.sort()\n",
    "testWavFiles.sort()\n",
    "print(len(phnFiles), len(testWavFiles))"
   ]
  },
  {
   "cell_type": "code",
   "execution_count": 5,
   "id": "grave-branch",
   "metadata": {},
   "outputs": [
    {
     "data": {
      "text/plain": [
       "['.ipynb_checkpoints',\n",
       " 'FADG0_SA1.PHN',\n",
       " 'FADG0_SA2.PHN',\n",
       " 'FADG0_SI1279.PHN',\n",
       " 'FADG0_SI1909.PHN']"
      ]
     },
     "execution_count": 5,
     "metadata": {},
     "output_type": "execute_result"
    }
   ],
   "source": [
    "phnFiles[:5]"
   ]
  },
  {
   "cell_type": "code",
   "execution_count": 6,
   "id": "killing-drunk",
   "metadata": {},
   "outputs": [
    {
     "data": {
      "text/plain": [
       "['FADG0_SA1.WAV',\n",
       " 'FADG0_SA2.WAV',\n",
       " 'FADG0_SI1279.WAV',\n",
       " 'FADG0_SI1909.WAV',\n",
       " 'FADG0_SI649.WAV']"
      ]
     },
     "execution_count": 6,
     "metadata": {},
     "output_type": "execute_result"
    }
   ],
   "source": [
    "testWavFiles[:5]"
   ]
  },
  {
   "cell_type": "code",
   "execution_count": 7,
   "id": "advisory-environment",
   "metadata": {},
   "outputs": [
    {
     "data": {
      "text/plain": [
       "1680"
      ]
     },
     "execution_count": 7,
     "metadata": {},
     "output_type": "execute_result"
    }
   ],
   "source": [
    "testPhnWavFiles = []\n",
    "\n",
    "for i,testWavFile in enumerate(testWavFiles):\n",
    "    if((testWavFile[:-4]+'.PHN') in phnFiles):\n",
    "        testPhnWavFiles.append(['./TIMIT_Dataset/wav_data/TEST/'+testWavFile, './TIMIT_Dataset/wav_data/phn/'+testWavFile[:-4]+'.PHN'])\n",
    "len(testPhnWavFiles)"
   ]
  },
  {
   "cell_type": "code",
   "execution_count": 8,
   "id": "killing-juice",
   "metadata": {},
   "outputs": [
    {
     "data": {
      "text/plain": [
       "[['./TIMIT_Dataset/wav_data/TEST/FADG0_SA1.WAV',\n",
       "  './TIMIT_Dataset/wav_data/phn/FADG0_SA1.PHN'],\n",
       " ['./TIMIT_Dataset/wav_data/TEST/FADG0_SA2.WAV',\n",
       "  './TIMIT_Dataset/wav_data/phn/FADG0_SA2.PHN'],\n",
       " ['./TIMIT_Dataset/wav_data/TEST/FADG0_SI1279.WAV',\n",
       "  './TIMIT_Dataset/wav_data/phn/FADG0_SI1279.PHN'],\n",
       " ['./TIMIT_Dataset/wav_data/TEST/FADG0_SI1909.WAV',\n",
       "  './TIMIT_Dataset/wav_data/phn/FADG0_SI1909.PHN'],\n",
       " ['./TIMIT_Dataset/wav_data/TEST/FADG0_SI649.WAV',\n",
       "  './TIMIT_Dataset/wav_data/phn/FADG0_SI649.PHN']]"
      ]
     },
     "execution_count": 8,
     "metadata": {},
     "output_type": "execute_result"
    }
   ],
   "source": [
    "testPhnWavFiles[:5]"
   ]
  },
  {
   "cell_type": "markdown",
   "id": "timely-basement",
   "metadata": {},
   "source": [
    "# Phone map"
   ]
  },
  {
   "cell_type": "code",
   "execution_count": 9,
   "id": "defensive-palestine",
   "metadata": {},
   "outputs": [],
   "source": [
    "# https://catalog.ldc.upenn.edu/docs/LDC93S1/PHONCODE.TXT\n",
    "symbolList = [                                      \n",
    "                  'b',          \n",
    "                  'd',          \n",
    "                  'g',          \n",
    "                  'p',          \n",
    "                  't',          \n",
    "                  'k',         \n",
    "                  'dx',         \n",
    "                  'q',          \n",
    "\n",
    "                  'jh',         \n",
    "                  'ch',         \n",
    "\n",
    "                  's',          \n",
    "                  'sh',         \n",
    "                  'z',          \n",
    "                  'zh',         \n",
    "                  'f',          \n",
    "                  'th',         \n",
    "                  'v',           \n",
    "                  'dh',         \n",
    "\n",
    "                  'm',          \n",
    "                  'n',         \n",
    "                  'ng',         \n",
    "                  'em',         \n",
    "                  'en',         \n",
    "                  'eng',        \n",
    "                  'nx',         \n",
    "                             \n",
    "                  'l',          \n",
    "                  'r',          \n",
    "                  'w',          \n",
    "                  'y',          \n",
    "                  'hh',         \n",
    "                  'hv',         \n",
    "                  'el',         \n",
    "                  \n",
    "                  'iy',        \n",
    "                  'ih',          \n",
    "                  'eh',         \n",
    "                  'ey',         \n",
    "                  'ae',         \n",
    "                  'aa',         \n",
    "                  'aw',         \n",
    "                  'ay',         \n",
    "                  'ah',         \n",
    "                  'ao',         \n",
    "                  'oy',         \n",
    "                  'ow',         \n",
    "                  'uh',         \n",
    "                  'uw',         \n",
    "                  'ux',         \n",
    "                  'er',         \n",
    "                  'ax',        \n",
    "                  'ix',        \n",
    "                  'axr',        \n",
    "                  'ax-h',      \n",
    "\n",
    "                  'pau',     \n",
    "                  'epi',     \n",
    "                  'h#',     \n",
    "                  '1',       \n",
    "                  '2', \n",
    "\n",
    "                   'bcl','dcl','gcl','pcl','tck','kcl','tcl']    "
   ]
  },
  {
   "cell_type": "code",
   "execution_count": 10,
   "id": "listed-empty",
   "metadata": {},
   "outputs": [
    {
     "data": {
      "text/plain": [
       "64"
      ]
     },
     "execution_count": 10,
     "metadata": {},
     "output_type": "execute_result"
    }
   ],
   "source": [
    "len(symbolList)"
   ]
  },
  {
   "cell_type": "code",
   "execution_count": 11,
   "id": "divided-easter",
   "metadata": {},
   "outputs": [],
   "source": [
    "from IPython import embed"
   ]
  },
  {
   "cell_type": "code",
   "execution_count": 12,
   "id": "advance-stranger",
   "metadata": {},
   "outputs": [],
   "source": [
    "def getSymbolInfo(phnFile, selfAttnMatrix):\n",
    "    with open(phnFile) as f:\n",
    "        lines = f.readlines()\n",
    "    for line in lines:\n",
    "        lo, hi, symbol = line.split(\" \")\n",
    "        lo = int(lo)\n",
    "        hi = int(hi)\n",
    "        if(symbol[-1] == '\\n'):\n",
    "            symbol = symbol[:-1]\n",
    "        if(symbol == 'h#'):\n",
    "            continue\n",
    "#         print(lo, hi, symbol)\n",
    "        if(symbol not in symbolList):\n",
    "            embed()\n",
    "        assert(symbol in symbolList)\n",
    "        lo_ = lo//320\n",
    "        hi_ = (hi+319)//320\n",
    "        if(torch.isnan(selfAttnMatrix[lo_:hi_,lo_:hi_].mean())):\n",
    "            embed()\n",
    "        symbolCountMap[symbol] += selfAttnMatrix[lo_:hi_,lo_:hi_].mean()\n",
    "        "
   ]
  },
  {
   "cell_type": "markdown",
   "id": "directed-place",
   "metadata": {},
   "source": [
    "# Making Plots"
   ]
  },
  {
   "cell_type": "code",
   "execution_count": 13,
   "id": "usual-preview",
   "metadata": {},
   "outputs": [],
   "source": [
    "activation_M = {}\n",
    "def get_activation_M(name):\n",
    "    def hook(model, input, output):\n",
    "        activation_M[name] = output\n",
    "    return hook\n",
    "\n",
    "activation_F = {}\n",
    "def get_activation_F(name):\n",
    "    def hook(model, input, output):\n",
    "        activation_F[name] = output\n",
    "    return hook"
   ]
  },
  {
   "cell_type": "code",
   "execution_count": 14,
   "id": "alive-anatomy",
   "metadata": {},
   "outputs": [
    {
     "data": {
      "text/plain": [
       "<torch.utils.hooks.RemovableHandle at 0x7f7d11654130>"
      ]
     },
     "execution_count": 14,
     "metadata": {},
     "output_type": "execute_result"
    }
   ],
   "source": [
    "model.model.transformer_encoder_M.layers[5].self_attn.register_forward_hook(get_activation_M('attn_M'))\n",
    "model.model.transformer_encoder_F.layers[5].self_attn.register_forward_hook(get_activation_F('attn_F'))"
   ]
  },
  {
   "cell_type": "code",
   "execution_count": 21,
   "id": "patent-module",
   "metadata": {},
   "outputs": [
    {
     "name": "stdout",
     "output_type": "stream",
     "text": [
      "tensor([[0.8508]], grad_fn=<CopyBackwards>),tensor([[0.9048]], grad_fn=<CopyBackwards>),tensor([[0.8621]], grad_fn=<CopyBackwards>),tensor([[0.8417]], grad_fn=<CopyBackwards>),tensor([[0.8528]], grad_fn=<CopyBackwards>),tensor([[0.8843]], grad_fn=<CopyBackwards>),tensor([[0.8909]], grad_fn=<CopyBackwards>),tensor([[0.8110]], grad_fn=<CopyBackwards>),tensor([[0.8759]], grad_fn=<CopyBackwards>),tensor([[0.8679]], grad_fn=<CopyBackwards>),tensor([[0.7691]], grad_fn=<CopyBackwards>),tensor([[0.8247]], grad_fn=<CopyBackwards>),tensor([[0.7548]], grad_fn=<CopyBackwards>),tensor([[0.7492]], grad_fn=<CopyBackwards>),tensor([[0.7273]], grad_fn=<CopyBackwards>),tensor([[0.7383]], grad_fn=<CopyBackwards>),tensor([[0.8016]], grad_fn=<CopyBackwards>),tensor([[0.8289]], grad_fn=<CopyBackwards>),tensor([[0.7920]], grad_fn=<CopyBackwards>),tensor([[0.8249]], grad_fn=<CopyBackwards>),tensor([[0.7837]], grad_fn=<CopyBackwards>),tensor([[0.7849]], grad_fn=<CopyBackwards>),tensor([[0.6868]], grad_fn=<CopyBackwards>),tensor([[0.7275]], grad_fn=<CopyBackwards>),tensor([[0.7552]], grad_fn=<CopyBackwards>),tensor([[0.7524]], grad_fn=<CopyBackwards>),tensor([[0.7996]], grad_fn=<CopyBackwards>),tensor([[0.7485]], grad_fn=<CopyBackwards>),tensor([[0.7777]], grad_fn=<CopyBackwards>),tensor([[0.7498]], grad_fn=<CopyBackwards>),tensor([[0.7574]], grad_fn=<CopyBackwards>),tensor([[0.8422]], grad_fn=<CopyBackwards>),tensor([[0.8558]], grad_fn=<CopyBackwards>),tensor([[0.7785]], grad_fn=<CopyBackwards>),tensor([[0.8270]], grad_fn=<CopyBackwards>),tensor([[0.7999]], grad_fn=<CopyBackwards>),tensor([[0.8294]], grad_fn=<CopyBackwards>),tensor([[0.8522]], grad_fn=<CopyBackwards>),tensor([[0.8449]], grad_fn=<CopyBackwards>),tensor([[0.8281]], grad_fn=<CopyBackwards>),tensor([[0.7391]], grad_fn=<CopyBackwards>),tensor([[0.8918]], grad_fn=<CopyBackwards>),tensor([[0.7838]], grad_fn=<CopyBackwards>),tensor([[0.7705]], grad_fn=<CopyBackwards>),tensor([[0.8595]], grad_fn=<CopyBackwards>),tensor([[0.7682]], grad_fn=<CopyBackwards>),tensor([[0.8277]], grad_fn=<CopyBackwards>),tensor([[0.8362]], grad_fn=<CopyBackwards>),tensor([[0.8040]], grad_fn=<CopyBackwards>),tensor([[0.8795]], grad_fn=<CopyBackwards>),tensor([[0.8275]], grad_fn=<CopyBackwards>),tensor([[0.8748]], grad_fn=<CopyBackwards>),tensor([[0.8607]], grad_fn=<CopyBackwards>),tensor([[0.8255]], grad_fn=<CopyBackwards>),tensor([[0.8607]], grad_fn=<CopyBackwards>),tensor([[0.8389]], grad_fn=<CopyBackwards>),tensor([[0.8477]], grad_fn=<CopyBackwards>),tensor([[0.8661]], grad_fn=<CopyBackwards>),tensor([[0.8773]], grad_fn=<CopyBackwards>),tensor([[0.8778]], grad_fn=<CopyBackwards>),tensor([[0.8674]], grad_fn=<CopyBackwards>),tensor([[0.8971]], grad_fn=<CopyBackwards>),tensor([[0.8917]], grad_fn=<CopyBackwards>),tensor([[0.9052]], grad_fn=<CopyBackwards>),tensor([[0.8422]], grad_fn=<CopyBackwards>),tensor([[0.8837]], grad_fn=<CopyBackwards>),tensor([[0.8993]], grad_fn=<CopyBackwards>),tensor([[0.8686]], grad_fn=<CopyBackwards>),tensor([[0.8539]], grad_fn=<CopyBackwards>),tensor([[0.8895]], grad_fn=<CopyBackwards>),tensor([[0.8340]], grad_fn=<CopyBackwards>),tensor([[0.8235]], grad_fn=<CopyBackwards>),tensor([[0.8456]], grad_fn=<CopyBackwards>),tensor([[0.8898]], grad_fn=<CopyBackwards>),tensor([[0.7419]], grad_fn=<CopyBackwards>),tensor([[0.7845]], grad_fn=<CopyBackwards>),tensor([[0.8414]], grad_fn=<CopyBackwards>),tensor([[0.8001]], grad_fn=<CopyBackwards>),tensor([[0.7527]], grad_fn=<CopyBackwards>),tensor([[0.8400]], grad_fn=<CopyBackwards>),tensor([[0.8798]], grad_fn=<CopyBackwards>),tensor([[0.8787]], grad_fn=<CopyBackwards>),tensor([[0.9003]], grad_fn=<CopyBackwards>),tensor([[0.8752]], grad_fn=<CopyBackwards>),tensor([[0.8762]], grad_fn=<CopyBackwards>),tensor([[0.8803]], grad_fn=<CopyBackwards>),tensor([[0.8869]], grad_fn=<CopyBackwards>),tensor([[0.8731]], grad_fn=<CopyBackwards>),tensor([[0.8583]], grad_fn=<CopyBackwards>),tensor([[0.9052]], grad_fn=<CopyBackwards>),tensor([[0.8929]], grad_fn=<CopyBackwards>),tensor([[0.8946]], grad_fn=<CopyBackwards>),tensor([[0.8127]], grad_fn=<CopyBackwards>),tensor([[0.8752]], grad_fn=<CopyBackwards>),tensor([[0.8881]], grad_fn=<CopyBackwards>),tensor([[0.8949]], grad_fn=<CopyBackwards>),tensor([[0.8645]], grad_fn=<CopyBackwards>),tensor([[0.7529]], grad_fn=<CopyBackwards>),tensor([[0.8459]], grad_fn=<CopyBackwards>),tensor([[0.8071]], grad_fn=<CopyBackwards>),tensor([[0.8723]], grad_fn=<CopyBackwards>),tensor([[0.8757]], grad_fn=<CopyBackwards>),tensor([[0.8993]], grad_fn=<CopyBackwards>),tensor([[0.8459]], grad_fn=<CopyBackwards>),tensor([[0.8833]], grad_fn=<CopyBackwards>),tensor([[0.8799]], grad_fn=<CopyBackwards>),tensor([[0.8396]], grad_fn=<CopyBackwards>),tensor([[0.8976]], grad_fn=<CopyBackwards>),tensor([[0.8888]], grad_fn=<CopyBackwards>),tensor([[0.8694]], grad_fn=<CopyBackwards>),tensor([[0.7710]], grad_fn=<CopyBackwards>),tensor([[0.7703]], grad_fn=<CopyBackwards>),tensor([[0.7146]], grad_fn=<CopyBackwards>),tensor([[0.7845]], grad_fn=<CopyBackwards>),tensor([[0.7555]], grad_fn=<CopyBackwards>),tensor([[0.6890]], grad_fn=<CopyBackwards>),tensor([[0.7804]], grad_fn=<CopyBackwards>),tensor([[0.8249]], grad_fn=<CopyBackwards>),tensor([[0.6439]], grad_fn=<CopyBackwards>),tensor([[0.7439]], grad_fn=<CopyBackwards>),tensor([[0.7396]], grad_fn=<CopyBackwards>),tensor([[0.8361]], grad_fn=<CopyBackwards>),tensor([[0.8225]], grad_fn=<CopyBackwards>),tensor([[0.7680]], grad_fn=<CopyBackwards>),tensor([[0.8214]], grad_fn=<CopyBackwards>),tensor([[0.8023]], grad_fn=<CopyBackwards>),tensor([[0.7899]], grad_fn=<CopyBackwards>),tensor([[0.8074]], grad_fn=<CopyBackwards>),tensor([[0.8411]], grad_fn=<CopyBackwards>),tensor([[0.8260]], grad_fn=<CopyBackwards>),tensor([[0.8247]], grad_fn=<CopyBackwards>),tensor([[0.8991]], grad_fn=<CopyBackwards>),tensor([[0.8538]], grad_fn=<CopyBackwards>),tensor([[0.8909]], grad_fn=<CopyBackwards>),tensor([[0.8801]], grad_fn=<CopyBackwards>),tensor([[0.8684]], grad_fn=<CopyBackwards>),tensor([[0.7997]], grad_fn=<CopyBackwards>),tensor([[0.8794]], grad_fn=<CopyBackwards>),tensor([[0.8651]], grad_fn=<CopyBackwards>),tensor([[0.8810]], grad_fn=<CopyBackwards>),tensor([[0.8228]], grad_fn=<CopyBackwards>),tensor([[0.8534]], grad_fn=<CopyBackwards>),tensor([[0.8639]], grad_fn=<CopyBackwards>),tensor([[0.8293]], grad_fn=<CopyBackwards>),tensor([[0.8295]], grad_fn=<CopyBackwards>),tensor([[0.8337]], grad_fn=<CopyBackwards>),tensor([[0.8333]], grad_fn=<CopyBackwards>),tensor([[0.8256]], grad_fn=<CopyBackwards>),tensor([[0.7860]], grad_fn=<CopyBackwards>),tensor([[0.8366]], grad_fn=<CopyBackwards>),tensor([[0.8487]], grad_fn=<CopyBackwards>),tensor([[0.8943]], grad_fn=<CopyBackwards>),tensor([[0.8640]], grad_fn=<CopyBackwards>),tensor([[0.8740]], grad_fn=<CopyBackwards>),tensor([[0.8701]], grad_fn=<CopyBackwards>),tensor([[0.8872]], grad_fn=<CopyBackwards>),tensor([[0.8609]], grad_fn=<CopyBackwards>),tensor([[0.8771]], grad_fn=<CopyBackwards>),tensor([[0.8607]], grad_fn=<CopyBackwards>),tensor([[0.8599]], grad_fn=<CopyBackwards>),tensor([[0.9020]], grad_fn=<CopyBackwards>),tensor([[0.8954]], grad_fn=<CopyBackwards>),tensor([[0.8380]], grad_fn=<CopyBackwards>),tensor([[0.8675]], grad_fn=<CopyBackwards>),tensor([[0.8589]], grad_fn=<CopyBackwards>),tensor([[0.8929]], grad_fn=<CopyBackwards>),tensor([[0.8902]], grad_fn=<CopyBackwards>),tensor([[0.8808]], grad_fn=<CopyBackwards>),tensor([[0.8761]], grad_fn=<CopyBackwards>),tensor([[0.9051]], grad_fn=<CopyBackwards>),tensor([[0.8217]], grad_fn=<CopyBackwards>),tensor([[0.8694]], grad_fn=<CopyBackwards>),tensor([[0.7953]], grad_fn=<CopyBackwards>),tensor([[0.8200]], grad_fn=<CopyBackwards>),tensor([[0.8755]], grad_fn=<CopyBackwards>),tensor([[0.7712]], grad_fn=<CopyBackwards>),tensor([[0.8487]], grad_fn=<CopyBackwards>),tensor([[0.8268]], grad_fn=<CopyBackwards>),tensor([[0.7983]], grad_fn=<CopyBackwards>),tensor([[0.7628]], grad_fn=<CopyBackwards>),tensor([[0.7957]], grad_fn=<CopyBackwards>),tensor([[0.8973]], grad_fn=<CopyBackwards>),tensor([[0.8402]], grad_fn=<CopyBackwards>),tensor([[0.8687]], grad_fn=<CopyBackwards>),tensor([[0.8833]], grad_fn=<CopyBackwards>),tensor([[0.8836]], grad_fn=<CopyBackwards>),tensor([[0.8640]], grad_fn=<CopyBackwards>),tensor([[0.8593]], grad_fn=<CopyBackwards>),tensor([[0.6705]], grad_fn=<CopyBackwards>),tensor([[0.8388]], grad_fn=<CopyBackwards>),tensor([[0.7578]], grad_fn=<CopyBackwards>),tensor([[0.8143]], grad_fn=<CopyBackwards>),tensor([[0.8561]], grad_fn=<CopyBackwards>),tensor([[0.8533]], grad_fn=<CopyBackwards>),tensor([[0.8093]], grad_fn=<CopyBackwards>),tensor([[0.8018]], grad_fn=<CopyBackwards>),tensor([[0.8370]], grad_fn=<CopyBackwards>),tensor([[0.7478]], grad_fn=<CopyBackwards>),tensor([[0.8156]], grad_fn=<CopyBackwards>),tensor([[0.8567]], grad_fn=<CopyBackwards>),tensor([[0.8053]], grad_fn=<CopyBackwards>),tensor([[0.8320]], grad_fn=<CopyBackwards>),tensor([[0.8309]], grad_fn=<CopyBackwards>),tensor([[0.7268]], grad_fn=<CopyBackwards>),tensor([[0.8165]], grad_fn=<CopyBackwards>),tensor([[0.7416]], grad_fn=<CopyBackwards>),tensor([[0.7734]], grad_fn=<CopyBackwards>),tensor([[0.8332]], grad_fn=<CopyBackwards>),tensor([[0.8294]], grad_fn=<CopyBackwards>),tensor([[0.7794]], grad_fn=<CopyBackwards>),tensor([[0.8917]], grad_fn=<CopyBackwards>),tensor([[0.9094]], grad_fn=<CopyBackwards>),tensor([[0.8918]], grad_fn=<CopyBackwards>),tensor([[0.8673]], grad_fn=<CopyBackwards>),tensor([[0.8978]], grad_fn=<CopyBackwards>),tensor([[0.8916]], grad_fn=<CopyBackwards>),tensor([[0.9012]], grad_fn=<CopyBackwards>),tensor([[0.9048]], grad_fn=<CopyBackwards>),tensor([[0.9159]], grad_fn=<CopyBackwards>),tensor([[0.8939]], grad_fn=<CopyBackwards>),tensor([[0.9327]], grad_fn=<CopyBackwards>),tensor([[0.9257]], grad_fn=<CopyBackwards>),tensor([[0.9131]], grad_fn=<CopyBackwards>),tensor([[0.9103]], grad_fn=<CopyBackwards>),tensor([[0.9188]], grad_fn=<CopyBackwards>),tensor([[0.9110]], grad_fn=<CopyBackwards>),tensor([[0.9213]], grad_fn=<CopyBackwards>),tensor([[0.9097]], grad_fn=<CopyBackwards>),tensor([[0.9194]], grad_fn=<CopyBackwards>),tensor([[0.9053]], grad_fn=<CopyBackwards>),tensor([[0.8270]], grad_fn=<CopyBackwards>),tensor([[0.8514]], grad_fn=<CopyBackwards>),tensor([[0.8536]], grad_fn=<CopyBackwards>),tensor([[0.8163]], grad_fn=<CopyBackwards>),tensor([[0.8539]], grad_fn=<CopyBackwards>),tensor([[0.8654]], grad_fn=<CopyBackwards>),tensor([[0.9015]], grad_fn=<CopyBackwards>),tensor([[0.8459]], grad_fn=<CopyBackwards>),tensor([[0.8304]], grad_fn=<CopyBackwards>),tensor([[0.8261]], grad_fn=<CopyBackwards>),tensor([[0.7109]], grad_fn=<CopyBackwards>),tensor([[0.7702]], grad_fn=<CopyBackwards>),tensor([[0.7485]], grad_fn=<CopyBackwards>),tensor([[0.7465]], grad_fn=<CopyBackwards>),tensor([[0.7558]], grad_fn=<CopyBackwards>),tensor([[0.7124]], grad_fn=<CopyBackwards>),tensor([[0.8133]], grad_fn=<CopyBackwards>),tensor([[0.5938]], grad_fn=<CopyBackwards>),tensor([[0.7822]], grad_fn=<CopyBackwards>),tensor([[0.8051]], grad_fn=<CopyBackwards>),tensor([[0.7206]], grad_fn=<CopyBackwards>),tensor([[0.6868]], grad_fn=<CopyBackwards>),tensor([[0.6098]], grad_fn=<CopyBackwards>),tensor([[0.7063]], grad_fn=<CopyBackwards>),tensor([[0.7278]], grad_fn=<CopyBackwards>),tensor([[0.7851]], grad_fn=<CopyBackwards>),tensor([[0.7546]], grad_fn=<CopyBackwards>),tensor([[0.6029]], grad_fn=<CopyBackwards>),tensor([[0.6826]], grad_fn=<CopyBackwards>),tensor([[0.7030]], grad_fn=<CopyBackwards>),tensor([[0.7301]], grad_fn=<CopyBackwards>),tensor([[0.8540]], grad_fn=<CopyBackwards>),tensor([[0.7183]], grad_fn=<CopyBackwards>),tensor([[0.7605]], grad_fn=<CopyBackwards>),tensor([[0.6444]], grad_fn=<CopyBackwards>),tensor([[0.7201]], grad_fn=<CopyBackwards>),tensor([[0.6089]], grad_fn=<CopyBackwards>),tensor([[0.6896]], grad_fn=<CopyBackwards>),tensor([[0.7690]], grad_fn=<CopyBackwards>),tensor([[0.7293]], grad_fn=<CopyBackwards>),tensor([[0.8811]], grad_fn=<CopyBackwards>),tensor([[0.8877]], grad_fn=<CopyBackwards>),tensor([[0.8484]], grad_fn=<CopyBackwards>),tensor([[0.8828]], grad_fn=<CopyBackwards>),tensor([[0.8762]], grad_fn=<CopyBackwards>),tensor([[0.8772]], grad_fn=<CopyBackwards>),tensor([[0.8894]], grad_fn=<CopyBackwards>),tensor([[0.8954]], grad_fn=<CopyBackwards>),tensor([[0.8830]], grad_fn=<CopyBackwards>),tensor([[0.9012]], grad_fn=<CopyBackwards>),tensor([[0.8998]], grad_fn=<CopyBackwards>),tensor([[0.9128]], grad_fn=<CopyBackwards>),tensor([[0.9220]], grad_fn=<CopyBackwards>),tensor([[0.9183]], grad_fn=<CopyBackwards>),tensor([[0.9211]], grad_fn=<CopyBackwards>),tensor([[0.9247]], grad_fn=<CopyBackwards>),tensor([[0.7492]], grad_fn=<CopyBackwards>),tensor([[0.8929]], grad_fn=<CopyBackwards>),tensor([[0.9137]], grad_fn=<CopyBackwards>),tensor([[0.9109]], grad_fn=<CopyBackwards>),tensor([[0.7722]], grad_fn=<CopyBackwards>),tensor([[0.8472]], grad_fn=<CopyBackwards>),tensor([[0.7881]], grad_fn=<CopyBackwards>),tensor([[0.8413]], grad_fn=<CopyBackwards>),tensor([[0.7938]], grad_fn=<CopyBackwards>),tensor([[0.8224]], grad_fn=<CopyBackwards>),tensor([[0.8323]], grad_fn=<CopyBackwards>),tensor([[0.8188]], grad_fn=<CopyBackwards>),tensor([[0.8246]], grad_fn=<CopyBackwards>),tensor([[0.8097]], grad_fn=<CopyBackwards>),tensor([[0.8513]], grad_fn=<CopyBackwards>),tensor([[0.8869]], grad_fn=<CopyBackwards>),tensor([[0.8425]], grad_fn=<CopyBackwards>),tensor([[0.8814]], grad_fn=<CopyBackwards>),tensor([[0.8468]], grad_fn=<CopyBackwards>),tensor([[0.8686]], grad_fn=<CopyBackwards>),tensor([[0.8721]], grad_fn=<CopyBackwards>),tensor([[0.8316]], grad_fn=<CopyBackwards>),tensor([[0.8890]], grad_fn=<CopyBackwards>),tensor([[0.8454]], grad_fn=<CopyBackwards>),tensor([[0.7133]], grad_fn=<CopyBackwards>),tensor([[0.7370]], grad_fn=<CopyBackwards>),tensor([[0.6513]], grad_fn=<CopyBackwards>),tensor([[0.7790]], grad_fn=<CopyBackwards>),tensor([[0.7734]], grad_fn=<CopyBackwards>),tensor([[0.8068]], grad_fn=<CopyBackwards>),tensor([[0.8064]], grad_fn=<CopyBackwards>),tensor([[0.7332]], grad_fn=<CopyBackwards>),tensor([[0.6188]], grad_fn=<CopyBackwards>),tensor([[0.6450]], grad_fn=<CopyBackwards>),tensor([[0.8062]], grad_fn=<CopyBackwards>),tensor([[0.8866]], grad_fn=<CopyBackwards>),tensor([[0.8355]], grad_fn=<CopyBackwards>),tensor([[0.8628]], grad_fn=<CopyBackwards>),tensor([[0.8703]], grad_fn=<CopyBackwards>),tensor([[0.8422]], grad_fn=<CopyBackwards>),tensor([[0.8734]], grad_fn=<CopyBackwards>),tensor([[0.8553]], grad_fn=<CopyBackwards>),tensor([[0.8174]], grad_fn=<CopyBackwards>),tensor([[0.8592]], grad_fn=<CopyBackwards>),tensor([[0.7550]], grad_fn=<CopyBackwards>),tensor([[0.8223]], grad_fn=<CopyBackwards>),tensor([[0.8599]], grad_fn=<CopyBackwards>),tensor([[0.7577]], grad_fn=<CopyBackwards>),tensor([[0.8220]], grad_fn=<CopyBackwards>),tensor([[0.7203]], grad_fn=<CopyBackwards>),tensor([[0.7992]], grad_fn=<CopyBackwards>),tensor([[0.6808]], grad_fn=<CopyBackwards>),tensor([[0.7860]], grad_fn=<CopyBackwards>),tensor([[0.8068]], grad_fn=<CopyBackwards>),tensor([[0.8233]], grad_fn=<CopyBackwards>),tensor([[0.8725]], grad_fn=<CopyBackwards>),tensor([[0.8675]], grad_fn=<CopyBackwards>),tensor([[0.8631]], grad_fn=<CopyBackwards>),tensor([[0.8841]], grad_fn=<CopyBackwards>),tensor([[0.8471]], grad_fn=<CopyBackwards>),tensor([[0.8636]], grad_fn=<CopyBackwards>),tensor([[0.8618]], grad_fn=<CopyBackwards>),tensor([[0.8781]], grad_fn=<CopyBackwards>),tensor([[0.8402]], grad_fn=<CopyBackwards>),tensor([[0.7446]], grad_fn=<CopyBackwards>),tensor([[0.8175]], grad_fn=<CopyBackwards>),tensor([[0.7306]], grad_fn=<CopyBackwards>),tensor([[0.8124]], grad_fn=<CopyBackwards>),tensor([[0.8254]], grad_fn=<CopyBackwards>),tensor([[0.7358]], grad_fn=<CopyBackwards>),tensor([[0.7655]], grad_fn=<CopyBackwards>),tensor([[0.6126]], grad_fn=<CopyBackwards>),tensor([[0.7727]], grad_fn=<CopyBackwards>),tensor([[0.7630]], grad_fn=<CopyBackwards>),tensor([[0.8227]], grad_fn=<CopyBackwards>),tensor([[0.8633]], grad_fn=<CopyBackwards>),tensor([[0.8658]], grad_fn=<CopyBackwards>),tensor([[0.8715]], grad_fn=<CopyBackwards>),tensor([[0.8263]], grad_fn=<CopyBackwards>),tensor([[0.8683]], grad_fn=<CopyBackwards>),tensor([[0.8313]], grad_fn=<CopyBackwards>),tensor([[0.8443]], grad_fn=<CopyBackwards>),tensor([[0.8194]], grad_fn=<CopyBackwards>),tensor([[0.8586]], grad_fn=<CopyBackwards>),tensor([[0.8285]], grad_fn=<CopyBackwards>),tensor([[0.8476]], grad_fn=<CopyBackwards>),tensor([[0.7717]], grad_fn=<CopyBackwards>),tensor([[0.8165]], grad_fn=<CopyBackwards>),tensor([[0.7331]], grad_fn=<CopyBackwards>),tensor([[0.8222]], grad_fn=<CopyBackwards>),tensor([[0.8465]], grad_fn=<CopyBackwards>),tensor([[0.7480]], grad_fn=<CopyBackwards>),tensor([[0.7563]], grad_fn=<CopyBackwards>),tensor([[0.8486]], grad_fn=<CopyBackwards>),tensor([[0.8031]], grad_fn=<CopyBackwards>),tensor([[0.8841]], grad_fn=<CopyBackwards>),tensor([[0.8330]], grad_fn=<CopyBackwards>),tensor([[0.8504]], grad_fn=<CopyBackwards>),tensor([[0.8225]], grad_fn=<CopyBackwards>),tensor([[0.8675]], grad_fn=<CopyBackwards>),tensor([[0.8083]], grad_fn=<CopyBackwards>),tensor([[0.8187]], grad_fn=<CopyBackwards>),tensor([[0.8521]], grad_fn=<CopyBackwards>),tensor([[0.8332]], grad_fn=<CopyBackwards>),tensor([[0.9111]], grad_fn=<CopyBackwards>),tensor([[0.9070]], grad_fn=<CopyBackwards>),tensor([[0.9025]], grad_fn=<CopyBackwards>),tensor([[0.9202]], grad_fn=<CopyBackwards>),tensor([[0.9114]], grad_fn=<CopyBackwards>),tensor([[0.8978]], grad_fn=<CopyBackwards>),tensor([[0.9062]], grad_fn=<CopyBackwards>),tensor([[0.8913]], grad_fn=<CopyBackwards>),tensor([[0.9078]], grad_fn=<CopyBackwards>),tensor([[0.9067]], grad_fn=<CopyBackwards>),tensor([[0.8473]], grad_fn=<CopyBackwards>),tensor([[0.8429]], grad_fn=<CopyBackwards>),tensor([[0.8497]], grad_fn=<CopyBackwards>),tensor([[0.7594]], grad_fn=<CopyBackwards>),tensor([[0.8710]], grad_fn=<CopyBackwards>),tensor([[0.8247]], grad_fn=<CopyBackwards>),tensor([[0.8632]], grad_fn=<CopyBackwards>),tensor([[0.8521]], grad_fn=<CopyBackwards>),tensor([[0.8261]], grad_fn=<CopyBackwards>),tensor([[0.8722]], grad_fn=<CopyBackwards>),tensor([[0.8250]], grad_fn=<CopyBackwards>),tensor([[0.8232]], grad_fn=<CopyBackwards>),tensor([[0.8095]], grad_fn=<CopyBackwards>),tensor([[0.8206]], grad_fn=<CopyBackwards>),tensor([[0.8118]], grad_fn=<CopyBackwards>),tensor([[0.7952]], grad_fn=<CopyBackwards>),tensor([[0.7254]], grad_fn=<CopyBackwards>),tensor([[0.7893]], grad_fn=<CopyBackwards>),tensor([[0.7922]], grad_fn=<CopyBackwards>),tensor([[0.8617]], grad_fn=<CopyBackwards>),tensor([[0.8374]], grad_fn=<CopyBackwards>),tensor([[0.8473]], grad_fn=<CopyBackwards>),tensor([[0.7776]], grad_fn=<CopyBackwards>),tensor([[0.7783]], grad_fn=<CopyBackwards>),tensor([[0.8608]], grad_fn=<CopyBackwards>),tensor([[0.8604]], grad_fn=<CopyBackwards>),tensor([[0.8366]], grad_fn=<CopyBackwards>),tensor([[0.6862]], grad_fn=<CopyBackwards>),tensor([[0.8243]], grad_fn=<CopyBackwards>),tensor([[0.8209]], grad_fn=<CopyBackwards>),tensor([[0.7852]], grad_fn=<CopyBackwards>),tensor([[0.8274]], grad_fn=<CopyBackwards>),tensor([[0.8081]], grad_fn=<CopyBackwards>),tensor([[0.7860]], grad_fn=<CopyBackwards>),tensor([[0.7455]], grad_fn=<CopyBackwards>),tensor([[0.7435]], grad_fn=<CopyBackwards>),tensor([[0.7967]], grad_fn=<CopyBackwards>),tensor([[0.7301]], grad_fn=<CopyBackwards>),tensor([[0.8059]], grad_fn=<CopyBackwards>),tensor([[0.8125]], grad_fn=<CopyBackwards>),tensor([[0.8237]], grad_fn=<CopyBackwards>),tensor([[0.8365]], grad_fn=<CopyBackwards>),tensor([[0.8353]], grad_fn=<CopyBackwards>),tensor([[0.8286]], grad_fn=<CopyBackwards>),tensor([[0.8768]], grad_fn=<CopyBackwards>),tensor([[0.8229]], grad_fn=<CopyBackwards>),tensor([[0.7950]], grad_fn=<CopyBackwards>),tensor([[0.8514]], grad_fn=<CopyBackwards>),tensor([[0.8371]], grad_fn=<CopyBackwards>),tensor([[0.8446]], grad_fn=<CopyBackwards>),tensor([[0.6763]], grad_fn=<CopyBackwards>),tensor([[0.6301]], grad_fn=<CopyBackwards>),tensor([[0.7017]], grad_fn=<CopyBackwards>),tensor([[0.6626]], grad_fn=<CopyBackwards>),tensor([[0.6668]], grad_fn=<CopyBackwards>),tensor([[0.7017]], grad_fn=<CopyBackwards>),tensor([[0.7355]], grad_fn=<CopyBackwards>),tensor([[0.7254]], grad_fn=<CopyBackwards>),tensor([[0.7489]], grad_fn=<CopyBackwards>),tensor([[0.7456]], grad_fn=<CopyBackwards>),tensor([[0.6254]], grad_fn=<CopyBackwards>),tensor([[0.8246]], grad_fn=<CopyBackwards>),tensor([[0.8224]], grad_fn=<CopyBackwards>),tensor([[0.7584]], grad_fn=<CopyBackwards>),tensor([[0.8091]], grad_fn=<CopyBackwards>),tensor([[0.6973]], grad_fn=<CopyBackwards>),tensor([[0.8459]], grad_fn=<CopyBackwards>),tensor([[0.7581]], grad_fn=<CopyBackwards>),tensor([[0.7808]], grad_fn=<CopyBackwards>),tensor([[0.7813]], grad_fn=<CopyBackwards>),tensor([[0.8429]], grad_fn=<CopyBackwards>),tensor([[0.8775]], grad_fn=<CopyBackwards>),tensor([[0.8512]], grad_fn=<CopyBackwards>),tensor([[0.8364]], grad_fn=<CopyBackwards>),tensor([[0.8667]], grad_fn=<CopyBackwards>),tensor([[0.8649]], grad_fn=<CopyBackwards>),tensor([[0.8067]], grad_fn=<CopyBackwards>),tensor([[0.8739]], grad_fn=<CopyBackwards>),tensor([[0.8397]], grad_fn=<CopyBackwards>),tensor([[0.8761]], grad_fn=<CopyBackwards>),tensor([[0.8187]], grad_fn=<CopyBackwards>),tensor([[0.8613]], grad_fn=<CopyBackwards>),tensor([[0.8292]], grad_fn=<CopyBackwards>),tensor([[0.8670]], grad_fn=<CopyBackwards>),tensor([[0.8381]], grad_fn=<CopyBackwards>),tensor([[0.7823]], grad_fn=<CopyBackwards>),tensor([[0.8090]], grad_fn=<CopyBackwards>),tensor([[0.8350]], grad_fn=<CopyBackwards>),tensor([[0.8168]], grad_fn=<CopyBackwards>),tensor([[0.8483]], grad_fn=<CopyBackwards>),tensor([[0.8503]], grad_fn=<CopyBackwards>),tensor([[0.8753]], grad_fn=<CopyBackwards>),tensor([[0.8504]], grad_fn=<CopyBackwards>),tensor([[0.7991]], grad_fn=<CopyBackwards>),tensor([[0.7441]], grad_fn=<CopyBackwards>),tensor([[0.8595]], grad_fn=<CopyBackwards>),tensor([[0.8457]], grad_fn=<CopyBackwards>),tensor([[0.8285]], grad_fn=<CopyBackwards>),tensor([[0.8355]], grad_fn=<CopyBackwards>),tensor([[0.8724]], grad_fn=<CopyBackwards>),tensor([[0.8818]], grad_fn=<CopyBackwards>),tensor([[0.8986]], grad_fn=<CopyBackwards>),tensor([[0.8826]], grad_fn=<CopyBackwards>),tensor([[0.8841]], grad_fn=<CopyBackwards>),tensor([[0.8905]], grad_fn=<CopyBackwards>),tensor([[0.9113]], grad_fn=<CopyBackwards>),tensor([[0.8989]], grad_fn=<CopyBackwards>),tensor([[0.9002]], grad_fn=<CopyBackwards>),tensor([[0.8811]], grad_fn=<CopyBackwards>),tensor([[0.9082]], grad_fn=<CopyBackwards>),tensor([[0.8927]], grad_fn=<CopyBackwards>),tensor([[0.8972]], grad_fn=<CopyBackwards>),tensor([[0.8683]], grad_fn=<CopyBackwards>),tensor([[0.8771]], grad_fn=<CopyBackwards>),tensor([[0.8886]], grad_fn=<CopyBackwards>),tensor([[0.8986]], grad_fn=<CopyBackwards>),tensor([[0.8764]], grad_fn=<CopyBackwards>),tensor([[0.8868]], grad_fn=<CopyBackwards>),tensor([[0.8905]], grad_fn=<CopyBackwards>),tensor([[0.8777]], grad_fn=<CopyBackwards>),tensor([[0.7912]], grad_fn=<CopyBackwards>),tensor([[0.8525]], grad_fn=<CopyBackwards>),tensor([[0.8690]], grad_fn=<CopyBackwards>),tensor([[0.6997]], grad_fn=<CopyBackwards>),tensor([[0.7935]], grad_fn=<CopyBackwards>),tensor([[0.8698]], grad_fn=<CopyBackwards>),tensor([[0.8486]], grad_fn=<CopyBackwards>),tensor([[0.7864]], grad_fn=<CopyBackwards>),tensor([[0.8022]], grad_fn=<CopyBackwards>),tensor([[0.8495]], grad_fn=<CopyBackwards>),tensor([[0.4929]], grad_fn=<CopyBackwards>),tensor([[0.6354]], grad_fn=<CopyBackwards>),tensor([[0.4685]], grad_fn=<CopyBackwards>),tensor([[0.4354]], grad_fn=<CopyBackwards>),tensor([[0.6418]], grad_fn=<CopyBackwards>),tensor([[0.6782]], grad_fn=<CopyBackwards>),tensor([[0.6653]], grad_fn=<CopyBackwards>),tensor([[0.6046]], grad_fn=<CopyBackwards>),tensor([[0.4598]], grad_fn=<CopyBackwards>),tensor([[0.4071]], grad_fn=<CopyBackwards>),tensor([[0.8022]], grad_fn=<CopyBackwards>),tensor([[0.8074]], grad_fn=<CopyBackwards>),tensor([[0.8361]], grad_fn=<CopyBackwards>),tensor([[0.8770]], grad_fn=<CopyBackwards>),tensor([[0.7431]], grad_fn=<CopyBackwards>),tensor([[0.8436]], grad_fn=<CopyBackwards>),tensor([[0.7790]], grad_fn=<CopyBackwards>),tensor([[0.8160]], grad_fn=<CopyBackwards>),tensor([[0.7658]], grad_fn=<CopyBackwards>),tensor([[0.7971]], grad_fn=<CopyBackwards>),tensor([[0.7789]], grad_fn=<CopyBackwards>),tensor([[0.7692]], grad_fn=<CopyBackwards>),tensor([[0.8318]], grad_fn=<CopyBackwards>),tensor([[0.7931]], grad_fn=<CopyBackwards>),tensor([[0.7386]], grad_fn=<CopyBackwards>),tensor([[0.7851]], grad_fn=<CopyBackwards>),tensor([[0.7864]], grad_fn=<CopyBackwards>),tensor([[0.7849]], grad_fn=<CopyBackwards>),tensor([[0.8446]], grad_fn=<CopyBackwards>),tensor([[0.7732]], grad_fn=<CopyBackwards>),tensor([[0.1548]], grad_fn=<CopyBackwards>),tensor([[0.1314]], grad_fn=<CopyBackwards>),tensor([[0.1432]], grad_fn=<CopyBackwards>),tensor([[0.1949]], grad_fn=<CopyBackwards>),tensor([[0.1803]], grad_fn=<CopyBackwards>),tensor([[0.1218]], grad_fn=<CopyBackwards>),tensor([[0.1467]], grad_fn=<CopyBackwards>),tensor([[0.1201]], grad_fn=<CopyBackwards>),tensor([[0.1294]], grad_fn=<CopyBackwards>),tensor([[0.1691]], grad_fn=<CopyBackwards>),tensor([[0.1362]], grad_fn=<CopyBackwards>),tensor([[0.1483]], grad_fn=<CopyBackwards>),tensor([[0.1688]], grad_fn=<CopyBackwards>),tensor([[0.1257]], grad_fn=<CopyBackwards>),tensor([[0.1434]], grad_fn=<CopyBackwards>),tensor([[0.1168]], grad_fn=<CopyBackwards>),tensor([[0.1720]], grad_fn=<CopyBackwards>),tensor([[0.1312]], grad_fn=<CopyBackwards>),tensor([[0.1215]], grad_fn=<CopyBackwards>),tensor([[0.1209]], grad_fn=<CopyBackwards>),tensor([[0.1284]], grad_fn=<CopyBackwards>),tensor([[0.1280]], grad_fn=<CopyBackwards>),tensor([[0.1379]], grad_fn=<CopyBackwards>),tensor([[0.1302]], grad_fn=<CopyBackwards>),tensor([[0.1378]], grad_fn=<CopyBackwards>),tensor([[0.1516]], grad_fn=<CopyBackwards>),tensor([[0.1395]], grad_fn=<CopyBackwards>),tensor([[0.1521]], grad_fn=<CopyBackwards>),tensor([[0.1204]], grad_fn=<CopyBackwards>),tensor([[0.1472]], grad_fn=<CopyBackwards>),tensor([[0.2247]], grad_fn=<CopyBackwards>),tensor([[0.2037]], grad_fn=<CopyBackwards>),tensor([[0.2692]], grad_fn=<CopyBackwards>),tensor([[0.1701]], grad_fn=<CopyBackwards>),tensor([[0.2071]], grad_fn=<CopyBackwards>),tensor([[0.1287]], grad_fn=<CopyBackwards>),tensor([[0.2683]], grad_fn=<CopyBackwards>),tensor([[0.1620]], grad_fn=<CopyBackwards>),tensor([[0.2037]], grad_fn=<CopyBackwards>),tensor([[0.2488]], grad_fn=<CopyBackwards>),tensor([[0.1347]], grad_fn=<CopyBackwards>),tensor([[0.1040]], grad_fn=<CopyBackwards>),tensor([[0.0931]], grad_fn=<CopyBackwards>),tensor([[0.1177]], grad_fn=<CopyBackwards>),tensor([[0.1241]], grad_fn=<CopyBackwards>),tensor([[0.1602]], grad_fn=<CopyBackwards>),tensor([[0.0928]], grad_fn=<CopyBackwards>),tensor([[0.1286]], grad_fn=<CopyBackwards>),tensor([[0.1294]], grad_fn=<CopyBackwards>),tensor([[0.1287]], grad_fn=<CopyBackwards>),tensor([[0.1250]], grad_fn=<CopyBackwards>),tensor([[0.1303]], grad_fn=<CopyBackwards>),tensor([[0.1640]], grad_fn=<CopyBackwards>),tensor([[0.1740]], grad_fn=<CopyBackwards>),tensor([[0.1065]], grad_fn=<CopyBackwards>),tensor([[0.1069]], grad_fn=<CopyBackwards>),tensor([[0.1077]], grad_fn=<CopyBackwards>),tensor([[0.1166]], grad_fn=<CopyBackwards>),tensor([[0.1597]], grad_fn=<CopyBackwards>),tensor([[0.1203]], grad_fn=<CopyBackwards>),tensor([[0.1698]], grad_fn=<CopyBackwards>),tensor([[0.1665]], grad_fn=<CopyBackwards>),tensor([[0.1975]], grad_fn=<CopyBackwards>),tensor([[0.1530]], grad_fn=<CopyBackwards>),tensor([[0.1422]], grad_fn=<CopyBackwards>),tensor([[0.1385]], grad_fn=<CopyBackwards>),tensor([[0.2594]], grad_fn=<CopyBackwards>),tensor([[0.1493]], grad_fn=<CopyBackwards>),tensor([[0.1275]], grad_fn=<CopyBackwards>),tensor([[0.1836]], grad_fn=<CopyBackwards>),tensor([[0.0805]], grad_fn=<CopyBackwards>),tensor([[0.0973]], grad_fn=<CopyBackwards>),tensor([[0.0815]], grad_fn=<CopyBackwards>),tensor([[0.1560]], grad_fn=<CopyBackwards>),tensor([[0.0730]], grad_fn=<CopyBackwards>),tensor([[0.0796]], grad_fn=<CopyBackwards>),tensor([[0.0765]], grad_fn=<CopyBackwards>),tensor([[0.0823]], grad_fn=<CopyBackwards>),tensor([[0.0836]], grad_fn=<CopyBackwards>),tensor([[0.0706]], grad_fn=<CopyBackwards>),tensor([[0.1739]], grad_fn=<CopyBackwards>),tensor([[0.1060]], grad_fn=<CopyBackwards>),tensor([[0.1521]], grad_fn=<CopyBackwards>),tensor([[0.2027]], grad_fn=<CopyBackwards>),tensor([[0.1896]], grad_fn=<CopyBackwards>),tensor([[0.1594]], grad_fn=<CopyBackwards>),tensor([[0.1421]], grad_fn=<CopyBackwards>),tensor([[0.2013]], grad_fn=<CopyBackwards>),tensor([[0.1385]], grad_fn=<CopyBackwards>),tensor([[0.1016]], grad_fn=<CopyBackwards>),tensor([[0.1060]], grad_fn=<CopyBackwards>),tensor([[0.1031]], grad_fn=<CopyBackwards>),tensor([[0.1200]], grad_fn=<CopyBackwards>),tensor([[0.0803]], grad_fn=<CopyBackwards>),tensor([[0.0866]], grad_fn=<CopyBackwards>),tensor([[0.0820]], grad_fn=<CopyBackwards>),tensor([[0.0978]], grad_fn=<CopyBackwards>),tensor([[0.0969]], grad_fn=<CopyBackwards>),tensor([[0.0794]], grad_fn=<CopyBackwards>),tensor([[0.0793]], grad_fn=<CopyBackwards>),tensor([[0.1856]], grad_fn=<CopyBackwards>),tensor([[0.1538]], grad_fn=<CopyBackwards>),tensor([[0.1367]], grad_fn=<CopyBackwards>),tensor([[0.1224]], grad_fn=<CopyBackwards>),tensor([[0.1370]], grad_fn=<CopyBackwards>),tensor([[0.1571]], grad_fn=<CopyBackwards>),tensor([[0.1868]], grad_fn=<CopyBackwards>),tensor([[0.1540]], grad_fn=<CopyBackwards>),tensor([[0.1767]], grad_fn=<CopyBackwards>),tensor([[0.2363]], grad_fn=<CopyBackwards>),tensor([[0.1753]], grad_fn=<CopyBackwards>),tensor([[0.1335]], grad_fn=<CopyBackwards>),tensor([[0.1285]], grad_fn=<CopyBackwards>),tensor([[0.1198]], grad_fn=<CopyBackwards>),tensor([[0.1374]], grad_fn=<CopyBackwards>),tensor([[0.1173]], grad_fn=<CopyBackwards>),tensor([[0.1334]], grad_fn=<CopyBackwards>),tensor([[0.1333]], grad_fn=<CopyBackwards>),tensor([[0.1539]], grad_fn=<CopyBackwards>),tensor([[0.1038]], grad_fn=<CopyBackwards>),tensor([[0.1701]], grad_fn=<CopyBackwards>),tensor([[0.1477]], grad_fn=<CopyBackwards>),tensor([[0.1832]], grad_fn=<CopyBackwards>),tensor([[0.1988]], grad_fn=<CopyBackwards>),tensor([[0.2001]], grad_fn=<CopyBackwards>),tensor([[0.2037]], grad_fn=<CopyBackwards>),tensor([[0.1727]], grad_fn=<CopyBackwards>),tensor([[0.1456]], grad_fn=<CopyBackwards>),tensor([[0.1564]], grad_fn=<CopyBackwards>),tensor([[0.1767]], grad_fn=<CopyBackwards>),tensor([[0.1471]], grad_fn=<CopyBackwards>),tensor([[0.1841]], grad_fn=<CopyBackwards>),tensor([[0.1824]], grad_fn=<CopyBackwards>),tensor([[0.1124]], grad_fn=<CopyBackwards>),tensor([[0.1216]], grad_fn=<CopyBackwards>),tensor([[0.1398]], grad_fn=<CopyBackwards>),tensor([[0.1467]], grad_fn=<CopyBackwards>),tensor([[0.1399]], grad_fn=<CopyBackwards>),tensor([[0.1744]], grad_fn=<CopyBackwards>),tensor([[0.1072]], grad_fn=<CopyBackwards>),tensor([[0.1757]], grad_fn=<CopyBackwards>),tensor([[0.1335]], grad_fn=<CopyBackwards>),tensor([[0.1526]], grad_fn=<CopyBackwards>),tensor([[0.1467]], grad_fn=<CopyBackwards>),tensor([[0.2037]], grad_fn=<CopyBackwards>),tensor([[0.1680]], grad_fn=<CopyBackwards>),tensor([[0.1150]], grad_fn=<CopyBackwards>),tensor([[0.2076]], grad_fn=<CopyBackwards>),tensor([[0.1622]], grad_fn=<CopyBackwards>),tensor([[0.2022]], grad_fn=<CopyBackwards>),tensor([[0.1639]], grad_fn=<CopyBackwards>),tensor([[0.0856]], grad_fn=<CopyBackwards>),tensor([[0.1214]], grad_fn=<CopyBackwards>),tensor([[0.1015]], grad_fn=<CopyBackwards>),tensor([[0.0862]], grad_fn=<CopyBackwards>),tensor([[0.1633]], grad_fn=<CopyBackwards>),tensor([[0.1256]], grad_fn=<CopyBackwards>),tensor([[0.1257]], grad_fn=<CopyBackwards>),tensor([[0.1556]], grad_fn=<CopyBackwards>),tensor([[0.1118]], grad_fn=<CopyBackwards>),tensor([[0.1225]], grad_fn=<CopyBackwards>),tensor([[0.0681]], grad_fn=<CopyBackwards>),tensor([[0.1059]], grad_fn=<CopyBackwards>),tensor([[0.1526]], grad_fn=<CopyBackwards>),tensor([[0.1137]], grad_fn=<CopyBackwards>),tensor([[0.1452]], grad_fn=<CopyBackwards>),tensor([[0.1212]], grad_fn=<CopyBackwards>),tensor([[0.1325]], grad_fn=<CopyBackwards>),tensor([[0.0995]], grad_fn=<CopyBackwards>),tensor([[0.1287]], grad_fn=<CopyBackwards>),tensor([[0.1603]], grad_fn=<CopyBackwards>),tensor([[0.1754]], grad_fn=<CopyBackwards>),tensor([[0.1882]], grad_fn=<CopyBackwards>),tensor([[0.1725]], grad_fn=<CopyBackwards>),tensor([[0.2548]], grad_fn=<CopyBackwards>),tensor([[0.2272]], grad_fn=<CopyBackwards>),tensor([[0.2634]], grad_fn=<CopyBackwards>),tensor([[0.2777]], grad_fn=<CopyBackwards>),tensor([[0.2085]], grad_fn=<CopyBackwards>),tensor([[0.2650]], grad_fn=<CopyBackwards>),tensor([[0.1416]], grad_fn=<CopyBackwards>),tensor([[0.1154]], grad_fn=<CopyBackwards>),tensor([[0.1109]], grad_fn=<CopyBackwards>),tensor([[0.1262]], grad_fn=<CopyBackwards>),tensor([[0.1453]], grad_fn=<CopyBackwards>),tensor([[0.1569]], grad_fn=<CopyBackwards>),tensor([[0.1338]], grad_fn=<CopyBackwards>),tensor([[0.1414]], grad_fn=<CopyBackwards>),tensor([[0.1562]], grad_fn=<CopyBackwards>),tensor([[0.1489]], grad_fn=<CopyBackwards>),tensor([[0.1083]], grad_fn=<CopyBackwards>),tensor([[0.1051]], grad_fn=<CopyBackwards>),tensor([[0.0951]], grad_fn=<CopyBackwards>),tensor([[0.1011]], grad_fn=<CopyBackwards>),tensor([[0.0978]], grad_fn=<CopyBackwards>),tensor([[0.0928]], grad_fn=<CopyBackwards>),tensor([[0.0950]], grad_fn=<CopyBackwards>),tensor([[0.1313]], grad_fn=<CopyBackwards>),tensor([[0.0943]], grad_fn=<CopyBackwards>),tensor([[0.0882]], grad_fn=<CopyBackwards>),tensor([[0.2402]], grad_fn=<CopyBackwards>),tensor([[0.2796]], grad_fn=<CopyBackwards>),tensor([[0.2426]], grad_fn=<CopyBackwards>),tensor([[0.2949]], grad_fn=<CopyBackwards>),tensor([[0.3328]], grad_fn=<CopyBackwards>),tensor([[0.4189]], grad_fn=<CopyBackwards>),tensor([[0.2637]], grad_fn=<CopyBackwards>),tensor([[0.3007]], grad_fn=<CopyBackwards>),tensor([[0.3133]], grad_fn=<CopyBackwards>),tensor([[0.2733]], grad_fn=<CopyBackwards>),tensor([[0.1840]], grad_fn=<CopyBackwards>),tensor([[0.2508]], grad_fn=<CopyBackwards>),tensor([[0.1856]], grad_fn=<CopyBackwards>),tensor([[0.1971]], grad_fn=<CopyBackwards>),tensor([[0.1450]], grad_fn=<CopyBackwards>),tensor([[0.2025]], grad_fn=<CopyBackwards>),tensor([[0.2554]], grad_fn=<CopyBackwards>),tensor([[0.1943]], grad_fn=<CopyBackwards>),tensor([[0.1841]], grad_fn=<CopyBackwards>),tensor([[0.1388]], grad_fn=<CopyBackwards>),tensor([[0.1535]], grad_fn=<CopyBackwards>),tensor([[0.1382]], grad_fn=<CopyBackwards>),tensor([[0.1731]], grad_fn=<CopyBackwards>),tensor([[0.2094]], grad_fn=<CopyBackwards>),tensor([[0.0915]], grad_fn=<CopyBackwards>),tensor([[0.1221]], grad_fn=<CopyBackwards>),tensor([[0.1469]], grad_fn=<CopyBackwards>),tensor([[0.1925]], grad_fn=<CopyBackwards>),tensor([[0.1328]], grad_fn=<CopyBackwards>),tensor([[0.0834]], grad_fn=<CopyBackwards>),tensor([[0.2120]], grad_fn=<CopyBackwards>),tensor([[0.1648]], grad_fn=<CopyBackwards>),tensor([[0.3293]], grad_fn=<CopyBackwards>),tensor([[0.2253]], grad_fn=<CopyBackwards>),tensor([[0.4595]], grad_fn=<CopyBackwards>),tensor([[0.1766]], grad_fn=<CopyBackwards>),tensor([[0.1910]], grad_fn=<CopyBackwards>),tensor([[0.2842]], grad_fn=<CopyBackwards>),tensor([[0.2320]], grad_fn=<CopyBackwards>),tensor([[0.2540]], grad_fn=<CopyBackwards>),tensor([[0.2500]], grad_fn=<CopyBackwards>),tensor([[0.1888]], grad_fn=<CopyBackwards>),tensor([[0.1814]], grad_fn=<CopyBackwards>),tensor([[0.1731]], grad_fn=<CopyBackwards>),tensor([[0.2059]], grad_fn=<CopyBackwards>),tensor([[0.1389]], grad_fn=<CopyBackwards>),tensor([[0.1257]], grad_fn=<CopyBackwards>),tensor([[0.1505]], grad_fn=<CopyBackwards>),tensor([[0.1505]], grad_fn=<CopyBackwards>),tensor([[0.1610]], grad_fn=<CopyBackwards>),tensor([[0.2035]], grad_fn=<CopyBackwards>),tensor([[0.1726]], grad_fn=<CopyBackwards>),tensor([[0.1534]], grad_fn=<CopyBackwards>),tensor([[0.1662]], grad_fn=<CopyBackwards>),tensor([[0.1542]], grad_fn=<CopyBackwards>),tensor([[0.1756]], grad_fn=<CopyBackwards>),tensor([[0.2669]], grad_fn=<CopyBackwards>),tensor([[0.1489]], grad_fn=<CopyBackwards>),tensor([[0.1363]], grad_fn=<CopyBackwards>),tensor([[0.1538]], grad_fn=<CopyBackwards>),tensor([[0.1371]], grad_fn=<CopyBackwards>),tensor([[0.1206]], grad_fn=<CopyBackwards>),tensor([[0.1035]], grad_fn=<CopyBackwards>),tensor([[0.1215]], grad_fn=<CopyBackwards>),tensor([[0.1511]], grad_fn=<CopyBackwards>),tensor([[0.0923]], grad_fn=<CopyBackwards>),tensor([[0.1140]], grad_fn=<CopyBackwards>),tensor([[0.1008]], grad_fn=<CopyBackwards>),tensor([[0.1003]], grad_fn=<CopyBackwards>),tensor([[0.1106]], grad_fn=<CopyBackwards>),tensor([[0.2077]], grad_fn=<CopyBackwards>),tensor([[0.2445]], grad_fn=<CopyBackwards>),tensor([[0.1095]], grad_fn=<CopyBackwards>),tensor([[0.1866]], grad_fn=<CopyBackwards>),tensor([[0.2247]], grad_fn=<CopyBackwards>),tensor([[0.2299]], grad_fn=<CopyBackwards>),tensor([[0.2344]], grad_fn=<CopyBackwards>),tensor([[0.2313]], grad_fn=<CopyBackwards>),tensor([[0.1641]], grad_fn=<CopyBackwards>),tensor([[0.1863]], grad_fn=<CopyBackwards>),tensor([[0.1055]], grad_fn=<CopyBackwards>),tensor([[0.0831]], grad_fn=<CopyBackwards>),tensor([[0.0844]], grad_fn=<CopyBackwards>),tensor([[0.1077]], grad_fn=<CopyBackwards>),tensor([[0.0936]], grad_fn=<CopyBackwards>),tensor([[0.0945]], grad_fn=<CopyBackwards>),tensor([[0.1085]], grad_fn=<CopyBackwards>),tensor([[0.0887]], grad_fn=<CopyBackwards>),tensor([[0.0809]], grad_fn=<CopyBackwards>),tensor([[0.0961]], grad_fn=<CopyBackwards>),tensor([[0.1405]], grad_fn=<CopyBackwards>),tensor([[0.1655]], grad_fn=<CopyBackwards>),tensor([[0.1113]], grad_fn=<CopyBackwards>),tensor([[0.1095]], grad_fn=<CopyBackwards>),tensor([[0.1043]], grad_fn=<CopyBackwards>),tensor([[0.0876]], grad_fn=<CopyBackwards>),tensor([[0.1001]], grad_fn=<CopyBackwards>),tensor([[0.1093]], grad_fn=<CopyBackwards>),tensor([[0.2070]], grad_fn=<CopyBackwards>),tensor([[0.2148]], grad_fn=<CopyBackwards>),tensor([[0.1984]], grad_fn=<CopyBackwards>),tensor([[0.1498]], grad_fn=<CopyBackwards>),tensor([[0.1994]], grad_fn=<CopyBackwards>),tensor([[0.2241]], grad_fn=<CopyBackwards>),tensor([[0.1790]], grad_fn=<CopyBackwards>),tensor([[0.1554]], grad_fn=<CopyBackwards>),tensor([[0.2123]], grad_fn=<CopyBackwards>),tensor([[0.1626]], grad_fn=<CopyBackwards>),tensor([[0.1703]], grad_fn=<CopyBackwards>),tensor([[0.1359]], grad_fn=<CopyBackwards>),tensor([[0.1551]], grad_fn=<CopyBackwards>),tensor([[0.1299]], grad_fn=<CopyBackwards>),tensor([[0.1093]], grad_fn=<CopyBackwards>),tensor([[0.2039]], grad_fn=<CopyBackwards>),tensor([[0.1155]], grad_fn=<CopyBackwards>),tensor([[0.1682]], grad_fn=<CopyBackwards>),tensor([[0.1624]], grad_fn=<CopyBackwards>),tensor([[0.1400]], grad_fn=<CopyBackwards>),tensor([[0.1695]], grad_fn=<CopyBackwards>),tensor([[0.1468]], grad_fn=<CopyBackwards>),tensor([[0.2821]], grad_fn=<CopyBackwards>),tensor([[0.2114]], grad_fn=<CopyBackwards>),tensor([[0.1556]], grad_fn=<CopyBackwards>),tensor([[0.2450]], grad_fn=<CopyBackwards>),tensor([[0.2582]], grad_fn=<CopyBackwards>),tensor([[0.1472]], grad_fn=<CopyBackwards>),tensor([[0.1439]], grad_fn=<CopyBackwards>),tensor([[0.2352]], grad_fn=<CopyBackwards>),tensor([[0.1322]], grad_fn=<CopyBackwards>),tensor([[0.1930]], grad_fn=<CopyBackwards>),tensor([[0.1650]], grad_fn=<CopyBackwards>),tensor([[0.1093]], grad_fn=<CopyBackwards>),tensor([[0.1348]], grad_fn=<CopyBackwards>),tensor([[0.1017]], grad_fn=<CopyBackwards>),tensor([[0.1723]], grad_fn=<CopyBackwards>),tensor([[0.1428]], grad_fn=<CopyBackwards>),tensor([[0.1770]], grad_fn=<CopyBackwards>),tensor([[0.1650]], grad_fn=<CopyBackwards>),tensor([[0.1146]], grad_fn=<CopyBackwards>),tensor([[0.1368]], grad_fn=<CopyBackwards>),tensor([[0.1343]], grad_fn=<CopyBackwards>),tensor([[0.1379]], grad_fn=<CopyBackwards>),tensor([[0.0941]], grad_fn=<CopyBackwards>),tensor([[0.1545]], grad_fn=<CopyBackwards>),tensor([[0.1009]], grad_fn=<CopyBackwards>),tensor([[0.1049]], grad_fn=<CopyBackwards>),tensor([[0.1070]], grad_fn=<CopyBackwards>),tensor([[0.1051]], grad_fn=<CopyBackwards>),tensor([[0.1466]], grad_fn=<CopyBackwards>),tensor([[0.1056]], grad_fn=<CopyBackwards>),tensor([[0.1345]], grad_fn=<CopyBackwards>),tensor([[0.1035]], grad_fn=<CopyBackwards>),tensor([[0.1184]], grad_fn=<CopyBackwards>),tensor([[0.1020]], grad_fn=<CopyBackwards>),tensor([[0.1075]], grad_fn=<CopyBackwards>),tensor([[0.1158]], grad_fn=<CopyBackwards>),tensor([[0.1141]], grad_fn=<CopyBackwards>),tensor([[0.1368]], grad_fn=<CopyBackwards>),tensor([[0.1423]], grad_fn=<CopyBackwards>),tensor([[0.1309]], grad_fn=<CopyBackwards>),tensor([[0.1639]], grad_fn=<CopyBackwards>),tensor([[0.1570]], grad_fn=<CopyBackwards>),tensor([[0.2123]], grad_fn=<CopyBackwards>),tensor([[0.2325]], grad_fn=<CopyBackwards>),tensor([[0.1521]], grad_fn=<CopyBackwards>),tensor([[0.2248]], grad_fn=<CopyBackwards>),tensor([[0.2400]], grad_fn=<CopyBackwards>),tensor([[0.2305]], grad_fn=<CopyBackwards>),tensor([[0.2649]], grad_fn=<CopyBackwards>),tensor([[0.2461]], grad_fn=<CopyBackwards>),tensor([[0.3288]], grad_fn=<CopyBackwards>),tensor([[0.5195]], grad_fn=<CopyBackwards>),tensor([[0.3204]], grad_fn=<CopyBackwards>),tensor([[0.4335]], grad_fn=<CopyBackwards>),tensor([[0.5273]], grad_fn=<CopyBackwards>),tensor([[0.4515]], grad_fn=<CopyBackwards>),tensor([[0.3619]], grad_fn=<CopyBackwards>),tensor([[0.3239]], grad_fn=<CopyBackwards>),tensor([[0.2847]], grad_fn=<CopyBackwards>),tensor([[0.5175]], grad_fn=<CopyBackwards>),tensor([[0.1356]], grad_fn=<CopyBackwards>),tensor([[0.2368]], grad_fn=<CopyBackwards>),tensor([[0.1863]], grad_fn=<CopyBackwards>),tensor([[0.1743]], grad_fn=<CopyBackwards>),tensor([[0.1800]], grad_fn=<CopyBackwards>),tensor([[0.1759]], grad_fn=<CopyBackwards>),tensor([[0.2231]], grad_fn=<CopyBackwards>),tensor([[0.1526]], grad_fn=<CopyBackwards>),tensor([[0.3352]], grad_fn=<CopyBackwards>),tensor([[0.1731]], grad_fn=<CopyBackwards>),tensor([[0.2509]], grad_fn=<CopyBackwards>),tensor([[0.2654]], grad_fn=<CopyBackwards>),tensor([[0.3622]], grad_fn=<CopyBackwards>),tensor([[0.1534]], grad_fn=<CopyBackwards>),tensor([[0.1462]], grad_fn=<CopyBackwards>),tensor([[0.3035]], grad_fn=<CopyBackwards>),tensor([[0.2383]], grad_fn=<CopyBackwards>),tensor([[0.2313]], grad_fn=<CopyBackwards>),tensor([[0.1492]], grad_fn=<CopyBackwards>),tensor([[0.2255]], grad_fn=<CopyBackwards>),tensor([[0.1736]], grad_fn=<CopyBackwards>),tensor([[0.3479]], grad_fn=<CopyBackwards>),tensor([[0.2479]], grad_fn=<CopyBackwards>),tensor([[0.1638]], grad_fn=<CopyBackwards>),tensor([[0.2196]], grad_fn=<CopyBackwards>),tensor([[0.2371]], grad_fn=<CopyBackwards>),tensor([[0.2428]], grad_fn=<CopyBackwards>),tensor([[0.1855]], grad_fn=<CopyBackwards>),tensor([[0.1878]], grad_fn=<CopyBackwards>),tensor([[0.1998]], grad_fn=<CopyBackwards>),tensor([[0.1493]], grad_fn=<CopyBackwards>),tensor([[0.1389]], grad_fn=<CopyBackwards>),tensor([[0.0902]], grad_fn=<CopyBackwards>),tensor([[0.1813]], grad_fn=<CopyBackwards>),tensor([[0.1540]], grad_fn=<CopyBackwards>),tensor([[0.0926]], grad_fn=<CopyBackwards>),tensor([[0.1291]], grad_fn=<CopyBackwards>),tensor([[0.1478]], grad_fn=<CopyBackwards>),tensor([[0.1379]], grad_fn=<CopyBackwards>),tensor([[0.1408]], grad_fn=<CopyBackwards>),tensor([[0.1531]], grad_fn=<CopyBackwards>),tensor([[0.1582]], grad_fn=<CopyBackwards>),tensor([[0.1313]], grad_fn=<CopyBackwards>),tensor([[0.1308]], grad_fn=<CopyBackwards>),tensor([[0.1309]], grad_fn=<CopyBackwards>),tensor([[0.1975]], grad_fn=<CopyBackwards>),tensor([[0.1435]], grad_fn=<CopyBackwards>),tensor([[0.1264]], grad_fn=<CopyBackwards>),tensor([[0.1555]], grad_fn=<CopyBackwards>),tensor([[0.1358]], grad_fn=<CopyBackwards>),tensor([[0.1149]], grad_fn=<CopyBackwards>),tensor([[0.1296]], grad_fn=<CopyBackwards>),tensor([[0.1176]], grad_fn=<CopyBackwards>),tensor([[0.1282]], grad_fn=<CopyBackwards>),tensor([[0.1513]], grad_fn=<CopyBackwards>),tensor([[0.1426]], grad_fn=<CopyBackwards>),tensor([[0.1408]], grad_fn=<CopyBackwards>),tensor([[0.1396]], grad_fn=<CopyBackwards>),tensor([[0.1206]], grad_fn=<CopyBackwards>),tensor([[0.1651]], grad_fn=<CopyBackwards>),tensor([[0.0958]], grad_fn=<CopyBackwards>),tensor([[0.0826]], grad_fn=<CopyBackwards>),tensor([[0.0824]], grad_fn=<CopyBackwards>),tensor([[0.1042]], grad_fn=<CopyBackwards>),tensor([[0.1076]], grad_fn=<CopyBackwards>),tensor([[0.0934]], grad_fn=<CopyBackwards>),tensor([[0.1210]], grad_fn=<CopyBackwards>),tensor([[0.1104]], grad_fn=<CopyBackwards>),tensor([[0.0905]], grad_fn=<CopyBackwards>),tensor([[0.1182]], grad_fn=<CopyBackwards>),tensor([[0.1530]], grad_fn=<CopyBackwards>),tensor([[0.1681]], grad_fn=<CopyBackwards>),tensor([[0.1812]], grad_fn=<CopyBackwards>),tensor([[0.2125]], grad_fn=<CopyBackwards>),tensor([[0.1137]], grad_fn=<CopyBackwards>),tensor([[0.1600]], grad_fn=<CopyBackwards>),tensor([[0.2029]], grad_fn=<CopyBackwards>),tensor([[0.1497]], grad_fn=<CopyBackwards>),tensor([[0.1452]], grad_fn=<CopyBackwards>),tensor([[0.1441]], grad_fn=<CopyBackwards>),tensor([[0.2510]], grad_fn=<CopyBackwards>),tensor([[0.1938]], grad_fn=<CopyBackwards>),tensor([[0.2153]], grad_fn=<CopyBackwards>),tensor([[0.1777]], grad_fn=<CopyBackwards>),tensor([[0.2299]], grad_fn=<CopyBackwards>),tensor([[0.2660]], grad_fn=<CopyBackwards>),tensor([[0.2486]], grad_fn=<CopyBackwards>),tensor([[0.2190]], grad_fn=<CopyBackwards>),tensor([[0.1697]], grad_fn=<CopyBackwards>),tensor([[0.2414]], grad_fn=<CopyBackwards>),tensor([[0.2653]], grad_fn=<CopyBackwards>),tensor([[0.1977]], grad_fn=<CopyBackwards>),tensor([[0.2423]], grad_fn=<CopyBackwards>),tensor([[0.2039]], grad_fn=<CopyBackwards>),tensor([[0.2336]], grad_fn=<CopyBackwards>),tensor([[0.1757]], grad_fn=<CopyBackwards>),tensor([[0.3062]], grad_fn=<CopyBackwards>),tensor([[0.3089]], grad_fn=<CopyBackwards>),tensor([[0.2770]], grad_fn=<CopyBackwards>),tensor([[0.3503]], grad_fn=<CopyBackwards>),tensor([[0.1997]], grad_fn=<CopyBackwards>),tensor([[0.1740]], grad_fn=<CopyBackwards>),tensor([[0.2306]], grad_fn=<CopyBackwards>),tensor([[0.1915]], grad_fn=<CopyBackwards>),tensor([[0.1510]], grad_fn=<CopyBackwards>),tensor([[0.1075]], grad_fn=<CopyBackwards>),tensor([[0.1217]], grad_fn=<CopyBackwards>),tensor([[0.2613]], grad_fn=<CopyBackwards>),tensor([[0.1988]], grad_fn=<CopyBackwards>),tensor([[0.1050]], grad_fn=<CopyBackwards>),tensor([[0.3551]], grad_fn=<CopyBackwards>),tensor([[0.6142]], grad_fn=<CopyBackwards>),tensor([[0.2400]], grad_fn=<CopyBackwards>),tensor([[0.5107]], grad_fn=<CopyBackwards>),tensor([[0.3991]], grad_fn=<CopyBackwards>),tensor([[0.5002]], grad_fn=<CopyBackwards>),tensor([[0.5827]], grad_fn=<CopyBackwards>),tensor([[0.4168]], grad_fn=<CopyBackwards>),tensor([[0.3707]], grad_fn=<CopyBackwards>),tensor([[0.4937]], grad_fn=<CopyBackwards>),tensor([[0.0991]], grad_fn=<CopyBackwards>),tensor([[0.1014]], grad_fn=<CopyBackwards>),tensor([[0.0989]], grad_fn=<CopyBackwards>),tensor([[0.1083]], grad_fn=<CopyBackwards>),tensor([[0.0959]], grad_fn=<CopyBackwards>),tensor([[0.1154]], grad_fn=<CopyBackwards>),tensor([[0.1050]], grad_fn=<CopyBackwards>),tensor([[0.0987]], grad_fn=<CopyBackwards>),tensor([[0.0825]], grad_fn=<CopyBackwards>),tensor([[0.1080]], grad_fn=<CopyBackwards>),tensor([[0.2280]], grad_fn=<CopyBackwards>),tensor([[0.3680]], grad_fn=<CopyBackwards>),tensor([[0.2085]], grad_fn=<CopyBackwards>),tensor([[0.3595]], grad_fn=<CopyBackwards>),tensor([[0.3918]], grad_fn=<CopyBackwards>),tensor([[0.2936]], grad_fn=<CopyBackwards>),tensor([[0.3498]], grad_fn=<CopyBackwards>),tensor([[0.3022]], grad_fn=<CopyBackwards>),tensor([[0.2482]], grad_fn=<CopyBackwards>),tensor([[0.2288]], grad_fn=<CopyBackwards>),tensor([[0.1185]], grad_fn=<CopyBackwards>),tensor([[0.2188]], grad_fn=<CopyBackwards>),tensor([[0.1282]], grad_fn=<CopyBackwards>),tensor([[0.1320]], grad_fn=<CopyBackwards>),tensor([[0.1086]], grad_fn=<CopyBackwards>),tensor([[0.1807]], grad_fn=<CopyBackwards>),tensor([[0.1364]], grad_fn=<CopyBackwards>),tensor([[0.1309]], grad_fn=<CopyBackwards>),tensor([[0.1286]], grad_fn=<CopyBackwards>),tensor([[0.1085]], grad_fn=<CopyBackwards>),tensor([[0.1471]], grad_fn=<CopyBackwards>),tensor([[0.0886]], grad_fn=<CopyBackwards>),tensor([[0.1170]], grad_fn=<CopyBackwards>),tensor([[0.1503]], grad_fn=<CopyBackwards>),tensor([[0.1245]], grad_fn=<CopyBackwards>),tensor([[0.1421]], grad_fn=<CopyBackwards>),tensor([[0.1287]], grad_fn=<CopyBackwards>),tensor([[0.1217]], grad_fn=<CopyBackwards>),tensor([[0.1028]], grad_fn=<CopyBackwards>),tensor([[0.1347]], grad_fn=<CopyBackwards>),tensor([[0.1137]], grad_fn=<CopyBackwards>),tensor([[0.1949]], grad_fn=<CopyBackwards>),tensor([[0.0931]], grad_fn=<CopyBackwards>),tensor([[0.1756]], grad_fn=<CopyBackwards>),tensor([[0.1096]], grad_fn=<CopyBackwards>),tensor([[0.1408]], grad_fn=<CopyBackwards>),tensor([[0.1405]], grad_fn=<CopyBackwards>),tensor([[0.1371]], grad_fn=<CopyBackwards>),tensor([[0.1271]], grad_fn=<CopyBackwards>),tensor([[0.0870]], grad_fn=<CopyBackwards>),tensor([[0.1304]], grad_fn=<CopyBackwards>),tensor([[0.1042]], grad_fn=<CopyBackwards>),tensor([[0.0976]], grad_fn=<CopyBackwards>),tensor([[0.0817]], grad_fn=<CopyBackwards>),tensor([[0.0890]], grad_fn=<CopyBackwards>),tensor([[0.0831]], grad_fn=<CopyBackwards>),tensor([[0.0935]], grad_fn=<CopyBackwards>),tensor([[0.1402]], grad_fn=<CopyBackwards>),tensor([[0.0738]], grad_fn=<CopyBackwards>),tensor([[0.0999]], grad_fn=<CopyBackwards>),tensor([[0.0872]], grad_fn=<CopyBackwards>),tensor([[0.0853]], grad_fn=<CopyBackwards>),tensor([[0.0792]], grad_fn=<CopyBackwards>),tensor([[0.0943]], grad_fn=<CopyBackwards>),tensor([[0.1306]], grad_fn=<CopyBackwards>),tensor([[0.0941]], grad_fn=<CopyBackwards>),tensor([[0.0922]], grad_fn=<CopyBackwards>),tensor([[0.0863]], grad_fn=<CopyBackwards>),tensor([[0.0789]], grad_fn=<CopyBackwards>),tensor([[0.0712]], grad_fn=<CopyBackwards>),tensor([[0.1315]], grad_fn=<CopyBackwards>),tensor([[0.0884]], grad_fn=<CopyBackwards>),tensor([[0.1183]], grad_fn=<CopyBackwards>),tensor([[0.1193]], grad_fn=<CopyBackwards>),tensor([[0.1017]], grad_fn=<CopyBackwards>),tensor([[0.0789]], grad_fn=<CopyBackwards>),tensor([[0.0764]], grad_fn=<CopyBackwards>),tensor([[0.1070]], grad_fn=<CopyBackwards>),tensor([[0.1253]], grad_fn=<CopyBackwards>),tensor([[0.0922]], grad_fn=<CopyBackwards>),tensor([[0.1854]], grad_fn=<CopyBackwards>),tensor([[0.1432]], grad_fn=<CopyBackwards>),tensor([[0.1561]], grad_fn=<CopyBackwards>),tensor([[0.1362]], grad_fn=<CopyBackwards>),tensor([[0.1374]], grad_fn=<CopyBackwards>),tensor([[0.1101]], grad_fn=<CopyBackwards>),tensor([[0.1460]], grad_fn=<CopyBackwards>),tensor([[0.1329]], grad_fn=<CopyBackwards>),tensor([[0.1440]], grad_fn=<CopyBackwards>),tensor([[0.1147]], grad_fn=<CopyBackwards>),tensor([[0.0966]], grad_fn=<CopyBackwards>),tensor([[0.0676]], grad_fn=<CopyBackwards>),tensor([[0.0772]], grad_fn=<CopyBackwards>),tensor([[0.0889]], grad_fn=<CopyBackwards>),tensor([[0.0738]], grad_fn=<CopyBackwards>),tensor([[0.0922]], grad_fn=<CopyBackwards>),tensor([[0.0750]], grad_fn=<CopyBackwards>),tensor([[0.0660]], grad_fn=<CopyBackwards>),tensor([[0.0916]], grad_fn=<CopyBackwards>),tensor([[0.0968]], grad_fn=<CopyBackwards>),tensor([[0.3199]], grad_fn=<CopyBackwards>),tensor([[0.3470]], grad_fn=<CopyBackwards>),tensor([[0.2492]], grad_fn=<CopyBackwards>),tensor([[0.1661]], grad_fn=<CopyBackwards>),tensor([[0.3063]], grad_fn=<CopyBackwards>),tensor([[0.3280]], grad_fn=<CopyBackwards>),tensor([[0.2766]], grad_fn=<CopyBackwards>),tensor([[0.2511]], grad_fn=<CopyBackwards>),tensor([[0.3008]], grad_fn=<CopyBackwards>),tensor([[0.4472]], grad_fn=<CopyBackwards>),tensor([[0.1568]], grad_fn=<CopyBackwards>),tensor([[0.2674]], grad_fn=<CopyBackwards>),tensor([[0.1654]], grad_fn=<CopyBackwards>),tensor([[0.1717]], grad_fn=<CopyBackwards>),tensor([[0.1428]], grad_fn=<CopyBackwards>),tensor([[0.1187]], grad_fn=<CopyBackwards>),tensor([[0.2230]], grad_fn=<CopyBackwards>),tensor([[0.1274]], grad_fn=<CopyBackwards>),tensor([[0.1458]], grad_fn=<CopyBackwards>),tensor([[0.1861]], grad_fn=<CopyBackwards>),tensor([[0.2181]], grad_fn=<CopyBackwards>),tensor([[0.2322]], grad_fn=<CopyBackwards>),tensor([[0.1629]], grad_fn=<CopyBackwards>),tensor([[0.1385]], grad_fn=<CopyBackwards>),tensor([[0.2351]], grad_fn=<CopyBackwards>),tensor([[0.1575]], grad_fn=<CopyBackwards>),tensor([[0.2825]], grad_fn=<CopyBackwards>),tensor([[0.1182]], grad_fn=<CopyBackwards>),tensor([[0.1764]], grad_fn=<CopyBackwards>),tensor([[0.1621]], grad_fn=<CopyBackwards>),tensor([[0.1661]], grad_fn=<CopyBackwards>),tensor([[0.1537]], grad_fn=<CopyBackwards>),tensor([[0.2157]], grad_fn=<CopyBackwards>),tensor([[0.1987]], grad_fn=<CopyBackwards>),tensor([[0.1646]], grad_fn=<CopyBackwards>),tensor([[0.1702]], grad_fn=<CopyBackwards>),tensor([[0.1592]], grad_fn=<CopyBackwards>),tensor([[0.2158]], grad_fn=<CopyBackwards>),tensor([[0.1960]], grad_fn=<CopyBackwards>),tensor([[0.2347]], grad_fn=<CopyBackwards>),tensor([[0.1229]], grad_fn=<CopyBackwards>),tensor([[0.1234]], grad_fn=<CopyBackwards>),tensor([[0.1280]], grad_fn=<CopyBackwards>),tensor([[0.0914]], grad_fn=<CopyBackwards>),tensor([[0.0905]], grad_fn=<CopyBackwards>),tensor([[0.1376]], grad_fn=<CopyBackwards>),tensor([[0.1343]], grad_fn=<CopyBackwards>),tensor([[0.1243]], grad_fn=<CopyBackwards>),tensor([[0.1132]], grad_fn=<CopyBackwards>),tensor([[0.1395]], grad_fn=<CopyBackwards>),tensor([[0.0889]], grad_fn=<CopyBackwards>),tensor([[0.0923]], grad_fn=<CopyBackwards>),tensor([[0.0743]], grad_fn=<CopyBackwards>),tensor([[0.0611]], grad_fn=<CopyBackwards>),tensor([[0.0924]], grad_fn=<CopyBackwards>),tensor([[0.0800]], grad_fn=<CopyBackwards>),tensor([[0.1157]], grad_fn=<CopyBackwards>),tensor([[0.0677]], grad_fn=<CopyBackwards>),tensor([[0.1038]], grad_fn=<CopyBackwards>),tensor([[0.0763]], grad_fn=<CopyBackwards>),tensor([[0.2035]], grad_fn=<CopyBackwards>),tensor([[0.1431]], grad_fn=<CopyBackwards>),tensor([[0.1638]], grad_fn=<CopyBackwards>),tensor([[0.1366]], grad_fn=<CopyBackwards>),tensor([[0.2487]], grad_fn=<CopyBackwards>),tensor([[0.2358]], grad_fn=<CopyBackwards>),tensor([[0.2346]], grad_fn=<CopyBackwards>),tensor([[0.2163]], grad_fn=<CopyBackwards>),tensor([[0.1749]], grad_fn=<CopyBackwards>),tensor([[0.1604]], grad_fn=<CopyBackwards>),tensor([[0.1588]], grad_fn=<CopyBackwards>),tensor([[0.1385]], grad_fn=<CopyBackwards>),tensor([[0.1642]], grad_fn=<CopyBackwards>),tensor([[0.1488]], grad_fn=<CopyBackwards>),tensor([[0.0974]], grad_fn=<CopyBackwards>),tensor([[0.2320]], grad_fn=<CopyBackwards>),tensor([[0.1671]], grad_fn=<CopyBackwards>),tensor([[0.1651]], grad_fn=<CopyBackwards>),tensor([[0.1862]], grad_fn=<CopyBackwards>),tensor([[0.1149]], grad_fn=<CopyBackwards>),tensor([[0.1133]], grad_fn=<CopyBackwards>),tensor([[0.1280]], grad_fn=<CopyBackwards>),tensor([[0.1143]], grad_fn=<CopyBackwards>),tensor([[0.1248]], grad_fn=<CopyBackwards>),tensor([[0.1039]], grad_fn=<CopyBackwards>),tensor([[0.1011]], grad_fn=<CopyBackwards>),tensor([[0.0997]], grad_fn=<CopyBackwards>),tensor([[0.0852]], grad_fn=<CopyBackwards>),tensor([[0.1149]], grad_fn=<CopyBackwards>),tensor([[0.1149]], grad_fn=<CopyBackwards>),tensor([[0.1504]], grad_fn=<CopyBackwards>),tensor([[0.2590]], grad_fn=<CopyBackwards>),tensor([[0.1782]], grad_fn=<CopyBackwards>),tensor([[0.1522]], grad_fn=<CopyBackwards>),tensor([[0.1090]], grad_fn=<CopyBackwards>),tensor([[0.1312]], grad_fn=<CopyBackwards>),tensor([[0.1223]], grad_fn=<CopyBackwards>),tensor([[0.1753]], grad_fn=<CopyBackwards>),tensor([[0.1408]], grad_fn=<CopyBackwards>),tensor([[0.1350]], grad_fn=<CopyBackwards>),tensor([[0.1162]], grad_fn=<CopyBackwards>),tensor([[0.2321]], grad_fn=<CopyBackwards>),tensor([[0.1696]], grad_fn=<CopyBackwards>),tensor([[0.1822]], grad_fn=<CopyBackwards>),tensor([[0.1818]], grad_fn=<CopyBackwards>),tensor([[0.1642]], grad_fn=<CopyBackwards>),tensor([[0.1975]], grad_fn=<CopyBackwards>),tensor([[0.1946]], grad_fn=<CopyBackwards>),tensor([[0.1583]], grad_fn=<CopyBackwards>),tensor([[0.1316]], grad_fn=<CopyBackwards>),tensor([[0.1279]], grad_fn=<CopyBackwards>),tensor([[0.1266]], grad_fn=<CopyBackwards>),tensor([[0.1632]], grad_fn=<CopyBackwards>),tensor([[0.1583]], grad_fn=<CopyBackwards>),tensor([[0.1634]], grad_fn=<CopyBackwards>),tensor([[0.1686]], grad_fn=<CopyBackwards>),tensor([[0.1374]], grad_fn=<CopyBackwards>),tensor([[0.1310]], grad_fn=<CopyBackwards>),tensor([[0.1809]], grad_fn=<CopyBackwards>),tensor([[0.1370]], grad_fn=<CopyBackwards>),tensor([[0.1462]], grad_fn=<CopyBackwards>),tensor([[0.1307]], grad_fn=<CopyBackwards>),tensor([[0.1118]], grad_fn=<CopyBackwards>),tensor([[0.0815]], grad_fn=<CopyBackwards>),tensor([[0.1340]], grad_fn=<CopyBackwards>),tensor([[0.1383]], grad_fn=<CopyBackwards>),tensor([[0.1456]], grad_fn=<CopyBackwards>),tensor([[0.1057]], grad_fn=<CopyBackwards>),tensor([[0.1454]], grad_fn=<CopyBackwards>),tensor([[0.1551]], grad_fn=<CopyBackwards>),tensor([[0.1359]], grad_fn=<CopyBackwards>),tensor([[0.1341]], grad_fn=<CopyBackwards>),tensor([[0.0866]], grad_fn=<CopyBackwards>),tensor([[0.0914]], grad_fn=<CopyBackwards>),tensor([[0.0953]], grad_fn=<CopyBackwards>),tensor([[0.1498]], grad_fn=<CopyBackwards>),tensor([[0.1127]], grad_fn=<CopyBackwards>),tensor([[0.2568]], grad_fn=<CopyBackwards>),tensor([[0.1767]], grad_fn=<CopyBackwards>),tensor([[0.1244]], grad_fn=<CopyBackwards>),tensor([[0.1906]], grad_fn=<CopyBackwards>),tensor([[0.1645]], grad_fn=<CopyBackwards>),tensor([[0.1624]], grad_fn=<CopyBackwards>),tensor([[0.1136]], grad_fn=<CopyBackwards>),tensor([[0.2075]], grad_fn=<CopyBackwards>),tensor([[0.2051]], grad_fn=<CopyBackwards>),tensor([[0.1490]], grad_fn=<CopyBackwards>),tensor([[0.2537]], grad_fn=<CopyBackwards>),tensor([[0.2066]], grad_fn=<CopyBackwards>),tensor([[0.1171]], grad_fn=<CopyBackwards>),tensor([[0.1651]], grad_fn=<CopyBackwards>),tensor([[0.1422]], grad_fn=<CopyBackwards>),tensor([[0.1720]], grad_fn=<CopyBackwards>),tensor([[0.1860]], grad_fn=<CopyBackwards>),tensor([[0.1699]], grad_fn=<CopyBackwards>),tensor([[0.1306]], grad_fn=<CopyBackwards>),tensor([[0.1901]], grad_fn=<CopyBackwards>),tensor([[0.1551]], grad_fn=<CopyBackwards>),tensor([[0.2092]], grad_fn=<CopyBackwards>),tensor([[0.1772]], grad_fn=<CopyBackwards>),tensor([[0.1435]], grad_fn=<CopyBackwards>),tensor([[0.1329]], grad_fn=<CopyBackwards>),tensor([[0.1310]], grad_fn=<CopyBackwards>),tensor([[0.1755]], grad_fn=<CopyBackwards>),tensor([[0.1257]], grad_fn=<CopyBackwards>),tensor([[0.1382]], grad_fn=<CopyBackwards>),tensor([[0.1649]], grad_fn=<CopyBackwards>),tensor([[0.1375]], grad_fn=<CopyBackwards>),tensor([[0.1269]], grad_fn=<CopyBackwards>),tensor([[0.1296]], grad_fn=<CopyBackwards>),tensor([[0.1322]], grad_fn=<CopyBackwards>),tensor([[0.1283]], grad_fn=<CopyBackwards>),tensor([[0.1061]], grad_fn=<CopyBackwards>),tensor([[0.0947]], grad_fn=<CopyBackwards>),tensor([[0.0900]], grad_fn=<CopyBackwards>),tensor([[0.1322]], grad_fn=<CopyBackwards>),tensor([[0.1102]], grad_fn=<CopyBackwards>),tensor([[0.1276]], grad_fn=<CopyBackwards>),tensor([[0.1071]], grad_fn=<CopyBackwards>),tensor([[0.1303]], grad_fn=<CopyBackwards>),tensor([[0.1675]], grad_fn=<CopyBackwards>),tensor([[0.1532]], grad_fn=<CopyBackwards>),tensor([[0.1168]], grad_fn=<CopyBackwards>),tensor([[0.1121]], grad_fn=<CopyBackwards>),tensor([[0.1700]], grad_fn=<CopyBackwards>),tensor([[0.1490]], grad_fn=<CopyBackwards>),tensor([[0.2247]], grad_fn=<CopyBackwards>),tensor([[0.1657]], grad_fn=<CopyBackwards>),tensor([[0.1312]], grad_fn=<CopyBackwards>),tensor([[0.1435]], grad_fn=<CopyBackwards>),tensor([[0.1766]], grad_fn=<CopyBackwards>),tensor([[0.1227]], grad_fn=<CopyBackwards>),tensor([[0.1611]], grad_fn=<CopyBackwards>),tensor([[0.2005]], grad_fn=<CopyBackwards>),tensor([[0.1700]], grad_fn=<CopyBackwards>),tensor([[0.1699]], grad_fn=<CopyBackwards>),tensor([[0.1677]], grad_fn=<CopyBackwards>),tensor([[0.2135]], grad_fn=<CopyBackwards>),tensor([[0.1677]], grad_fn=<CopyBackwards>),tensor([[0.1706]], grad_fn=<CopyBackwards>),tensor([[0.1172]], grad_fn=<CopyBackwards>),tensor([[0.1034]], grad_fn=<CopyBackwards>),tensor([[0.0956]], grad_fn=<CopyBackwards>),tensor([[0.1005]], grad_fn=<CopyBackwards>),tensor([[0.1160]], grad_fn=<CopyBackwards>),tensor([[0.1179]], grad_fn=<CopyBackwards>),tensor([[0.1078]], grad_fn=<CopyBackwards>),tensor([[0.1018]], grad_fn=<CopyBackwards>),tensor([[0.0929]], grad_fn=<CopyBackwards>),tensor([[0.1166]], grad_fn=<CopyBackwards>),tensor([[0.1573]], grad_fn=<CopyBackwards>),tensor([[0.1018]], grad_fn=<CopyBackwards>),tensor([[0.0986]], grad_fn=<CopyBackwards>),tensor([[0.1180]], grad_fn=<CopyBackwards>),tensor([[0.0923]], grad_fn=<CopyBackwards>),tensor([[0.1092]], grad_fn=<CopyBackwards>),tensor([[0.1459]], grad_fn=<CopyBackwards>),tensor([[0.1267]], grad_fn=<CopyBackwards>),tensor([[0.0833]], grad_fn=<CopyBackwards>),tensor([[0.1346]], grad_fn=<CopyBackwards>),tensor([[0.1275]], grad_fn=<CopyBackwards>),tensor([[0.1211]], grad_fn=<CopyBackwards>),tensor([[0.1412]], grad_fn=<CopyBackwards>),tensor([[0.1388]], grad_fn=<CopyBackwards>),tensor([[0.1261]], grad_fn=<CopyBackwards>),tensor([[0.1585]], grad_fn=<CopyBackwards>),tensor([[0.2267]], grad_fn=<CopyBackwards>),tensor([[0.1747]], grad_fn=<CopyBackwards>),tensor([[0.1423]], grad_fn=<CopyBackwards>),tensor([[0.1386]], grad_fn=<CopyBackwards>),tensor([[0.1947]], grad_fn=<CopyBackwards>),tensor([[0.3834]], grad_fn=<CopyBackwards>),tensor([[0.2236]], grad_fn=<CopyBackwards>),tensor([[0.3141]], grad_fn=<CopyBackwards>),tensor([[0.2493]], grad_fn=<CopyBackwards>),tensor([[0.2264]], grad_fn=<CopyBackwards>),tensor([[0.2050]], grad_fn=<CopyBackwards>),tensor([[0.1835]], grad_fn=<CopyBackwards>),tensor([[0.3352]], grad_fn=<CopyBackwards>),tensor([[0.2540]], grad_fn=<CopyBackwards>),tensor([[0.1243]], grad_fn=<CopyBackwards>),tensor([[0.1547]], grad_fn=<CopyBackwards>),tensor([[0.1048]], grad_fn=<CopyBackwards>),tensor([[0.1547]], grad_fn=<CopyBackwards>),tensor([[0.1135]], grad_fn=<CopyBackwards>),tensor([[0.1230]], grad_fn=<CopyBackwards>),tensor([[0.2001]], grad_fn=<CopyBackwards>),tensor([[0.1200]], grad_fn=<CopyBackwards>),tensor([[0.1791]], grad_fn=<CopyBackwards>),tensor([[0.1532]], grad_fn=<CopyBackwards>),tensor([[0.1820]], grad_fn=<CopyBackwards>),tensor([[0.1783]], grad_fn=<CopyBackwards>),tensor([[0.1894]], grad_fn=<CopyBackwards>),tensor([[0.2005]], grad_fn=<CopyBackwards>),tensor([[0.2088]], grad_fn=<CopyBackwards>),tensor([[0.1687]], grad_fn=<CopyBackwards>),tensor([[0.2200]], grad_fn=<CopyBackwards>),tensor([[0.1233]], grad_fn=<CopyBackwards>),tensor([[0.1982]], grad_fn=<CopyBackwards>),tensor([[0.1609]], grad_fn=<CopyBackwards>),tensor([[0.2322]], grad_fn=<CopyBackwards>),tensor([[0.2447]], grad_fn=<CopyBackwards>),tensor([[0.4333]], grad_fn=<CopyBackwards>),tensor([[0.3683]], grad_fn=<CopyBackwards>),tensor([[0.3298]], grad_fn=<CopyBackwards>),tensor([[0.3737]], grad_fn=<CopyBackwards>),tensor([[0.2750]], grad_fn=<CopyBackwards>),tensor([[0.3222]], grad_fn=<CopyBackwards>),tensor([[0.4111]], grad_fn=<CopyBackwards>),tensor([[0.3019]], grad_fn=<CopyBackwards>),tensor([[0.1807]], grad_fn=<CopyBackwards>),tensor([[0.1756]], grad_fn=<CopyBackwards>),tensor([[0.1897]], grad_fn=<CopyBackwards>),tensor([[0.1809]], grad_fn=<CopyBackwards>),tensor([[0.1457]], grad_fn=<CopyBackwards>),tensor([[0.1535]], grad_fn=<CopyBackwards>),tensor([[0.1693]], grad_fn=<CopyBackwards>),tensor([[0.1568]], grad_fn=<CopyBackwards>),tensor([[0.1618]], grad_fn=<CopyBackwards>),tensor([[0.1608]], grad_fn=<CopyBackwards>),tensor([[0.1992]], grad_fn=<CopyBackwards>),tensor([[0.3092]], grad_fn=<CopyBackwards>),tensor([[0.1882]], grad_fn=<CopyBackwards>),tensor([[0.1267]], grad_fn=<CopyBackwards>),tensor([[0.1547]], grad_fn=<CopyBackwards>),tensor([[0.1368]], grad_fn=<CopyBackwards>),tensor([[0.1213]], grad_fn=<CopyBackwards>),tensor([[0.2074]], grad_fn=<CopyBackwards>),tensor([[0.1220]], grad_fn=<CopyBackwards>),tensor([[0.1731]], grad_fn=<CopyBackwards>),tensor([[0.2174]], grad_fn=<CopyBackwards>),tensor([[0.1735]], grad_fn=<CopyBackwards>),tensor([[0.3137]], grad_fn=<CopyBackwards>),tensor([[0.2302]], grad_fn=<CopyBackwards>),tensor([[0.1609]], grad_fn=<CopyBackwards>),tensor([[0.1481]], grad_fn=<CopyBackwards>),tensor([[0.1778]], grad_fn=<CopyBackwards>),tensor([[0.1519]], grad_fn=<CopyBackwards>),tensor([[0.2153]], grad_fn=<CopyBackwards>),tensor([[0.1818]], grad_fn=<CopyBackwards>),tensor([[0.0877]], grad_fn=<CopyBackwards>),tensor([[0.0656]], grad_fn=<CopyBackwards>),tensor([[0.0846]], grad_fn=<CopyBackwards>),tensor([[0.0873]], grad_fn=<CopyBackwards>),tensor([[0.0813]], grad_fn=<CopyBackwards>),tensor([[0.0837]], grad_fn=<CopyBackwards>),tensor([[0.0857]], grad_fn=<CopyBackwards>),tensor([[0.0853]], grad_fn=<CopyBackwards>),tensor([[0.0760]], grad_fn=<CopyBackwards>),tensor([[0.0766]], grad_fn=<CopyBackwards>),tensor([[0.1058]], grad_fn=<CopyBackwards>),tensor([[0.1058]], grad_fn=<CopyBackwards>),tensor([[0.1197]], grad_fn=<CopyBackwards>),tensor([[0.1018]], grad_fn=<CopyBackwards>),tensor([[0.1208]], grad_fn=<CopyBackwards>),tensor([[0.0984]], grad_fn=<CopyBackwards>),tensor([[0.1125]], grad_fn=<CopyBackwards>),tensor([[0.1161]], grad_fn=<CopyBackwards>),tensor([[0.0897]], grad_fn=<CopyBackwards>),tensor([[0.1095]], grad_fn=<CopyBackwards>),tensor([[0.0990]], grad_fn=<CopyBackwards>),tensor([[0.0785]], grad_fn=<CopyBackwards>),tensor([[0.0918]], grad_fn=<CopyBackwards>),tensor([[0.0910]], grad_fn=<CopyBackwards>),tensor([[0.1061]], grad_fn=<CopyBackwards>),tensor([[0.1075]], grad_fn=<CopyBackwards>),tensor([[0.1029]], grad_fn=<CopyBackwards>),tensor([[0.1673]], grad_fn=<CopyBackwards>),tensor([[0.0900]], grad_fn=<CopyBackwards>),tensor([[0.1351]], grad_fn=<CopyBackwards>),tensor([[0.0910]], grad_fn=<CopyBackwards>),tensor([[0.1768]], grad_fn=<CopyBackwards>),tensor([[0.0975]], grad_fn=<CopyBackwards>),tensor([[0.0909]], grad_fn=<CopyBackwards>),tensor([[0.0842]], grad_fn=<CopyBackwards>),tensor([[0.0990]], grad_fn=<CopyBackwards>),tensor([[0.1257]], grad_fn=<CopyBackwards>),tensor([[0.1279]], grad_fn=<CopyBackwards>),tensor([[0.0843]], grad_fn=<CopyBackwards>),tensor([[0.1327]], grad_fn=<CopyBackwards>),tensor([[0.1359]], grad_fn=<CopyBackwards>),tensor([[0.1258]], grad_fn=<CopyBackwards>),tensor([[0.1443]], grad_fn=<CopyBackwards>),tensor([[0.1202]], grad_fn=<CopyBackwards>),tensor([[0.1387]], grad_fn=<CopyBackwards>),tensor([[0.1546]], grad_fn=<CopyBackwards>),tensor([[0.1282]], grad_fn=<CopyBackwards>),tensor([[0.1686]], grad_fn=<CopyBackwards>),tensor([[0.1313]], grad_fn=<CopyBackwards>),tensor([[0.1144]], grad_fn=<CopyBackwards>),tensor([[0.1139]], grad_fn=<CopyBackwards>),tensor([[0.1115]], grad_fn=<CopyBackwards>),tensor([[0.1149]], grad_fn=<CopyBackwards>),tensor([[0.1130]], grad_fn=<CopyBackwards>),tensor([[0.1091]], grad_fn=<CopyBackwards>),tensor([[0.0919]], grad_fn=<CopyBackwards>),tensor([[0.1404]], grad_fn=<CopyBackwards>),tensor([[0.1086]], grad_fn=<CopyBackwards>),tensor([[0.1374]], grad_fn=<CopyBackwards>),tensor([[0.1671]], grad_fn=<CopyBackwards>),tensor([[0.3647]], grad_fn=<CopyBackwards>),tensor([[0.3114]], grad_fn=<CopyBackwards>),tensor([[0.6803]], grad_fn=<CopyBackwards>),tensor([[0.2852]], grad_fn=<CopyBackwards>),tensor([[0.3814]], grad_fn=<CopyBackwards>),tensor([[0.4142]], grad_fn=<CopyBackwards>),tensor([[0.2342]], grad_fn=<CopyBackwards>),tensor([[0.3136]], grad_fn=<CopyBackwards>),tensor([[0.3485]], grad_fn=<CopyBackwards>),tensor([[0.2927]], grad_fn=<CopyBackwards>),tensor([[0.1467]], grad_fn=<CopyBackwards>),tensor([[0.1317]], grad_fn=<CopyBackwards>),tensor([[0.1252]], grad_fn=<CopyBackwards>),tensor([[0.1123]], grad_fn=<CopyBackwards>),tensor([[0.1214]], grad_fn=<CopyBackwards>),tensor([[0.1180]], grad_fn=<CopyBackwards>),tensor([[0.0898]], grad_fn=<CopyBackwards>),tensor([[0.1547]], grad_fn=<CopyBackwards>),tensor([[0.1372]], grad_fn=<CopyBackwards>),tensor([[0.1114]], grad_fn=<CopyBackwards>),tensor([[0.2812]], grad_fn=<CopyBackwards>),tensor([[0.4004]], grad_fn=<CopyBackwards>),tensor([[0.2960]], grad_fn=<CopyBackwards>),tensor([[0.3672]], grad_fn=<CopyBackwards>),tensor([[0.3851]], grad_fn=<CopyBackwards>),tensor([[0.2821]], grad_fn=<CopyBackwards>),tensor([[0.3877]], grad_fn=<CopyBackwards>),tensor([[0.2454]], grad_fn=<CopyBackwards>),tensor([[0.3563]], grad_fn=<CopyBackwards>),tensor([[0.2109]], grad_fn=<CopyBackwards>),tensor([[0.1540]], grad_fn=<CopyBackwards>),tensor([[0.1247]], grad_fn=<CopyBackwards>),tensor([[0.1506]], grad_fn=<CopyBackwards>),tensor([[0.1321]], grad_fn=<CopyBackwards>),tensor([[0.1354]], grad_fn=<CopyBackwards>),tensor([[0.1641]], grad_fn=<CopyBackwards>),tensor([[0.1488]], grad_fn=<CopyBackwards>),tensor([[0.0997]], grad_fn=<CopyBackwards>),tensor([[0.1379]], grad_fn=<CopyBackwards>),tensor([[0.1560]], grad_fn=<CopyBackwards>),tensor([[0.1417]], grad_fn=<CopyBackwards>),tensor([[0.1914]], grad_fn=<CopyBackwards>),tensor([[0.2007]], grad_fn=<CopyBackwards>),tensor([[0.1517]], grad_fn=<CopyBackwards>),tensor([[0.1988]], grad_fn=<CopyBackwards>),tensor([[0.1773]], grad_fn=<CopyBackwards>),tensor([[0.1885]], grad_fn=<CopyBackwards>),tensor([[0.1841]], grad_fn=<CopyBackwards>),tensor([[0.2002]], grad_fn=<CopyBackwards>),tensor([[0.2007]], grad_fn=<CopyBackwards>),tensor([[0.1361]], grad_fn=<CopyBackwards>),tensor([[0.1417]], grad_fn=<CopyBackwards>),tensor([[0.0949]], grad_fn=<CopyBackwards>),tensor([[0.1576]], grad_fn=<CopyBackwards>),tensor([[0.1164]], grad_fn=<CopyBackwards>),tensor([[0.1440]], grad_fn=<CopyBackwards>),tensor([[0.1573]], grad_fn=<CopyBackwards>),tensor([[0.1429]], grad_fn=<CopyBackwards>),tensor([[0.1297]], grad_fn=<CopyBackwards>),tensor([[0.1123]], grad_fn=<CopyBackwards>),tensor([[0.1147]], grad_fn=<CopyBackwards>),tensor([[0.1286]], grad_fn=<CopyBackwards>),tensor([[0.1035]], grad_fn=<CopyBackwards>),tensor([[0.1285]], grad_fn=<CopyBackwards>),tensor([[0.0903]], grad_fn=<CopyBackwards>),tensor([[0.0902]], grad_fn=<CopyBackwards>),tensor([[0.1103]], grad_fn=<CopyBackwards>),tensor([[0.0934]], grad_fn=<CopyBackwards>),tensor([[0.0979]], grad_fn=<CopyBackwards>),tensor([[0.1137]], grad_fn=<CopyBackwards>),tensor([[0.2203]], grad_fn=<CopyBackwards>),tensor([[0.1454]], grad_fn=<CopyBackwards>),tensor([[0.1562]], grad_fn=<CopyBackwards>),tensor([[0.1675]], grad_fn=<CopyBackwards>),tensor([[0.1886]], grad_fn=<CopyBackwards>),tensor([[0.1338]], grad_fn=<CopyBackwards>),tensor([[0.2026]], grad_fn=<CopyBackwards>),tensor([[0.2550]], grad_fn=<CopyBackwards>),tensor([[0.2353]], grad_fn=<CopyBackwards>),tensor([[0.2003]], grad_fn=<CopyBackwards>),tensor([[0.1051]], grad_fn=<CopyBackwards>),tensor([[0.0828]], grad_fn=<CopyBackwards>),tensor([[0.0975]], grad_fn=<CopyBackwards>),tensor([[0.0981]], grad_fn=<CopyBackwards>),tensor([[0.0930]], grad_fn=<CopyBackwards>),tensor([[0.0751]], grad_fn=<CopyBackwards>),tensor([[0.0895]], grad_fn=<CopyBackwards>),tensor([[0.0972]], grad_fn=<CopyBackwards>),tensor([[0.0922]], grad_fn=<CopyBackwards>),tensor([[0.1205]], grad_fn=<CopyBackwards>),tensor([[0.2301]], grad_fn=<CopyBackwards>),tensor([[0.1680]], grad_fn=<CopyBackwards>),tensor([[0.1795]], grad_fn=<CopyBackwards>),tensor([[0.1564]], grad_fn=<CopyBackwards>),tensor([[0.1726]], grad_fn=<CopyBackwards>),tensor([[0.1427]], grad_fn=<CopyBackwards>),tensor([[0.1674]], grad_fn=<CopyBackwards>),tensor([[0.1886]], grad_fn=<CopyBackwards>),tensor([[0.1470]], grad_fn=<CopyBackwards>),tensor([[0.1498]], grad_fn=<CopyBackwards>),tensor([[0.1554]], grad_fn=<CopyBackwards>),tensor([[0.1135]], grad_fn=<CopyBackwards>),tensor([[0.1204]], grad_fn=<CopyBackwards>),tensor([[0.1513]], grad_fn=<CopyBackwards>),tensor([[0.1057]], grad_fn=<CopyBackwards>),tensor([[0.1124]], grad_fn=<CopyBackwards>),tensor([[0.1149]], grad_fn=<CopyBackwards>),tensor([[0.1821]], grad_fn=<CopyBackwards>),tensor([[0.1045]], grad_fn=<CopyBackwards>),tensor([[0.1132]], grad_fn=<CopyBackwards>),tensor([[0.0962]], grad_fn=<CopyBackwards>),tensor([[0.0805]], grad_fn=<CopyBackwards>),tensor([[0.0868]], grad_fn=<CopyBackwards>),tensor([[0.1102]], grad_fn=<CopyBackwards>),tensor([[0.1013]], grad_fn=<CopyBackwards>),tensor([[0.0782]], grad_fn=<CopyBackwards>),tensor([[0.1019]], grad_fn=<CopyBackwards>),tensor([[0.1038]], grad_fn=<CopyBackwards>),tensor([[0.0807]], grad_fn=<CopyBackwards>),tensor([[0.0945]], grad_fn=<CopyBackwards>),tensor([[0.1195]], grad_fn=<CopyBackwards>),tensor([[0.0772]], grad_fn=<CopyBackwards>),tensor([[0.0947]], grad_fn=<CopyBackwards>),tensor([[0.1044]], grad_fn=<CopyBackwards>),tensor([[0.0814]], grad_fn=<CopyBackwards>),tensor([[0.0840]], grad_fn=<CopyBackwards>),tensor([[0.1358]], grad_fn=<CopyBackwards>),tensor([[0.0992]], grad_fn=<CopyBackwards>),tensor([[0.1424]], grad_fn=<CopyBackwards>),tensor([[0.1508]], grad_fn=<CopyBackwards>),tensor([[0.1271]], grad_fn=<CopyBackwards>),tensor([[0.1014]], grad_fn=<CopyBackwards>),tensor([[0.1468]], grad_fn=<CopyBackwards>),tensor([[0.1127]], grad_fn=<CopyBackwards>),tensor([[0.1595]], grad_fn=<CopyBackwards>),tensor([[0.1254]], grad_fn=<CopyBackwards>),tensor([[0.1501]], grad_fn=<CopyBackwards>),tensor([[0.1385]], grad_fn=<CopyBackwards>),tensor([[0.0920]], grad_fn=<CopyBackwards>),tensor([[0.1164]], grad_fn=<CopyBackwards>),tensor([[0.1077]], grad_fn=<CopyBackwards>),tensor([[0.1037]], grad_fn=<CopyBackwards>),tensor([[0.0956]], grad_fn=<CopyBackwards>),tensor([[0.0871]], grad_fn=<CopyBackwards>),tensor([[0.1020]], grad_fn=<CopyBackwards>),tensor([[0.1047]], grad_fn=<CopyBackwards>),tensor([[0.1091]], grad_fn=<CopyBackwards>),tensor([[0.1041]], grad_fn=<CopyBackwards>),tensor([[0.1182]], grad_fn=<CopyBackwards>),tensor([[0.1299]], grad_fn=<CopyBackwards>),tensor([[0.1445]], grad_fn=<CopyBackwards>),tensor([[0.1172]], grad_fn=<CopyBackwards>),tensor([[0.1237]], grad_fn=<CopyBackwards>),tensor([[0.1233]], grad_fn=<CopyBackwards>),tensor([[0.0996]], grad_fn=<CopyBackwards>),tensor([[0.1684]], grad_fn=<CopyBackwards>),tensor([[0.1992]], grad_fn=<CopyBackwards>),tensor([[0.1141]], grad_fn=<CopyBackwards>),tensor([[0.1150]], grad_fn=<CopyBackwards>),tensor([[0.1226]], grad_fn=<CopyBackwards>),"
     ]
    }
   ],
   "source": [
    "symbolCountMap = {x: 0 for x in symbolList}\n",
    "\n",
    "for i,testPhnWavFile in enumerate(testPhnWavFiles):\n",
    "    wav, _ = torchaudio.load(testPhnWavFile[0])\n",
    "    wav_len = [wav.shape[1]]\n",
    "    wav = wav.to('cuda')\n",
    "    y_hat_h, y_hat_a, y_hat_g = model(wav, wav_len)\n",
    "    y_hat_h = y_hat_h.to('cpu')\n",
    "    y_hat_a = y_hat_a.to('cpu')\n",
    "    y_hat_g = y_hat_g.to('cpu')\n",
    "    \n",
    "    phnFile = testPhnWavFile[1]\n",
    "    \n",
    "    if(y_hat_g>0.5):\n",
    "        activation_F['attn_F']\n",
    "        selfAttnMatrix = activation_F['attn_F'][1][0].detach().cpu()\n",
    "        getSymbolInfo(phnFile, selfAttnMatrix)\n",
    "    else:\n",
    "        activation_M['attn_M']\n",
    "        selfAttnMatrix = activation_M['attn_M'][1][0].detach().cpu()\n",
    "        getSymbolInfo(phnFile, selfAttnMatrix)\n",
    "        \n",
    "#     if(i == 0):\n",
    "#         break"
   ]
  },
  {
   "cell_type": "code",
   "execution_count": null,
   "id": "logical-battle",
   "metadata": {},
   "outputs": [],
   "source": []
  },
  {
   "cell_type": "code",
   "execution_count": null,
   "id": "anticipated-printing",
   "metadata": {},
   "outputs": [],
   "source": [
    "symbolCountMap"
   ]
  },
  {
   "cell_type": "code",
   "execution_count": 70,
   "id": "growing-atlas",
   "metadata": {},
   "outputs": [],
   "source": [
    "# import pickle\n",
    "# with open('symbolCountMap.pkl', 'wb') as f:\n",
    "#     pickle.dump(symbolCountMap, f)"
   ]
  },
  {
   "cell_type": "code",
   "execution_count": 71,
   "id": "tight-failing",
   "metadata": {},
   "outputs": [],
   "source": [
    "# with open('symbolCountMap.pkl', 'rb') as f:\n",
    "#     symbolCountMap = pickle.load(f)"
   ]
  },
  {
   "cell_type": "code",
   "execution_count": 72,
   "id": "multiple-hygiene",
   "metadata": {},
   "outputs": [],
   "source": [
    "# https://catalog.ldc.upenn.edu/docs/LDC93S1/PHONCODE.TXT\n",
    "stopsSymbolList = [                                      \n",
    "                  'b',          \n",
    "                  'd',          \n",
    "                  'g',          \n",
    "                  'p',          \n",
    "                  't',          \n",
    "                  'k',         \n",
    "                  'dx',         \n",
    "                  'q',  \n",
    "'bcl','dcl','gcl','pcl','tck','kcl']\n",
    "\n",
    "affricatesSymbolList = [\n",
    "                  'jh',         \n",
    "                  'ch','dcl','tcl']     \n",
    "\n",
    "fricativesSymbolList = [\n",
    "                  's',          \n",
    "                  'sh',         \n",
    "                  'z',          \n",
    "                  'zh',         \n",
    "                  'f',          \n",
    "                  'th',         \n",
    "                  'v',           \n",
    "                  'dh',]     \n",
    "nasalsSymbolList = [\n",
    "                  'm',          \n",
    "                  'n',         \n",
    "                  'ng',         \n",
    "                  'em',         \n",
    "                  'en',         \n",
    "                  'eng',        \n",
    "                  'nx',]       \n",
    "semivowelsGlidesSymbolList = [                        \n",
    "                  'l',          \n",
    "                  'r',          \n",
    "                  'w',          \n",
    "                  'y',          \n",
    "                  'hh',         \n",
    "                  'hv',         \n",
    "                  'el',]      \n",
    "vowelsSymbolList = [            \n",
    "                  'iy',        \n",
    "                  'ih',          \n",
    "                  'eh',         \n",
    "                  'ey',         \n",
    "                  'ae',         \n",
    "                  'aa',         \n",
    "                  'aw',         \n",
    "                  'ay',         \n",
    "                  'ah',         \n",
    "                  'ao',         \n",
    "                  'oy',         \n",
    "                  'ow',         \n",
    "                  'uh',         \n",
    "                  'uw',         \n",
    "                  'ux',         \n",
    "                  'er',         \n",
    "                  'ax',        \n",
    "                  'ix',        \n",
    "                  'axr',        \n",
    "                  'ax-h',]    \n",
    "othersSymbolList = [\n",
    "                  'pau',     \n",
    "                  'epi',     \n",
    "                  'h#',     \n",
    "                  '1',       \n",
    "                  '2' ]    "
   ]
  },
  {
   "cell_type": "code",
   "execution_count": 73,
   "id": "hearing-album",
   "metadata": {},
   "outputs": [],
   "source": [
    "stopsSymbolCount = 0\n",
    "affricatesSymbolCount = 0\n",
    "fricativesSymbolCount = 0\n",
    "nasalsSymbolListCount = 0\n",
    "semivowelsGlidesSymbolCount = 0\n",
    "vowelsSymbolCount = 0\n",
    "othersSymbolCount = 0"
   ]
  },
  {
   "cell_type": "code",
   "execution_count": 74,
   "id": "innovative-advocate",
   "metadata": {},
   "outputs": [],
   "source": [
    "for (key,value) in symbolCountMap.items():\n",
    "    if(key in stopsSymbolList):\n",
    "        stopsSymbolCount += value\n",
    "    if(key in affricatesSymbolList):\n",
    "        affricatesSymbolCount += value\n",
    "    if(key in fricativesSymbolList):\n",
    "        fricativesSymbolCount += value\n",
    "    if(key in nasalsSymbolList):\n",
    "        nasalsSymbolListCount += value\n",
    "    if(key in semivowelsGlidesSymbolList):\n",
    "        semivowelsGlidesSymbolCount += value\n",
    "    if(key in vowelsSymbolList):\n",
    "        vowelsSymbolCount += value\n",
    "    if(key in othersSymbolList):\n",
    "        othersSymbolCount += value"
   ]
  },
  {
   "cell_type": "code",
   "execution_count": 75,
   "id": "traditional-context",
   "metadata": {},
   "outputs": [
    {
     "name": "stdout",
     "output_type": "stream",
     "text": [
      "[0.7396303  0.21688189 0.36126614 0.2390644  0.37808675 1.\n",
      " 0.04179452]\n"
     ]
    }
   ],
   "source": [
    "categories = ['Stops', 'Affricates', 'Fricatives', 'Nasals', 'Semivowels and Glides', 'Vowels', 'Others']\n",
    "values = np.array([stopsSymbolCount, affricatesSymbolCount, fricativesSymbolCount, nasalsSymbolListCount, semivowelsGlidesSymbolCount, vowelsSymbolCount, othersSymbolCount])\n",
    "values = values/max(values)\n",
    "print(values)"
   ]
  },
  {
   "cell_type": "code",
   "execution_count": 76,
   "id": "following-clinic",
   "metadata": {},
   "outputs": [],
   "source": [
    "plt.barh(categories, values)\n",
    "plt.xlabel(\"Relative importance\")\n",
    "plt.ylabel(\"Types of phone\")\n",
    "plt.title(\"\")\n",
    "plt.savefig('phoneGraph.png', dpi=600, bbox_inches='tight')\n",
    "plt.show()"
   ]
  },
  {
   "cell_type": "code",
   "execution_count": 15,
   "id": "floating-consumption",
   "metadata": {},
   "outputs": [
    {
     "data": {
      "text/plain": [
       "122898"
      ]
     },
     "execution_count": 15,
     "metadata": {},
     "output_type": "execute_result"
    }
   ],
   "source": [
    "max(values)"
   ]
  },
  {
   "cell_type": "code",
   "execution_count": 156,
   "id": "paperback-wildlife",
   "metadata": {},
   "outputs": [
    {
     "data": {
      "text/plain": [
       "Parameter containing:\n",
       "tensor(-0.0056, device='cuda:0', requires_grad=True)"
      ]
     },
     "execution_count": 156,
     "metadata": {},
     "output_type": "execute_result"
    }
   ],
   "source": [
    "model.uncertainty_loss.log_var_height"
   ]
  },
  {
   "cell_type": "code",
   "execution_count": 157,
   "id": "spare-butterfly",
   "metadata": {},
   "outputs": [
    {
     "data": {
      "text/plain": [
       "Parameter containing:\n",
       "tensor(-0.0035, device='cuda:0', requires_grad=True)"
      ]
     },
     "execution_count": 157,
     "metadata": {},
     "output_type": "execute_result"
    }
   ],
   "source": [
    "model.uncertainty_loss.log_var_age"
   ]
  },
  {
   "cell_type": "code",
   "execution_count": 158,
   "id": "christian-usage",
   "metadata": {},
   "outputs": [
    {
     "data": {
      "text/plain": [
       "Parameter containing:\n",
       "tensor(-0.0065, device='cuda:0', requires_grad=True)"
      ]
     },
     "execution_count": 158,
     "metadata": {},
     "output_type": "execute_result"
    }
   ],
   "source": [
    "model.uncertainty_loss.log_var_gender"
   ]
  },
  {
   "cell_type": "code",
   "execution_count": null,
   "id": "mechanical-walnut",
   "metadata": {},
   "outputs": [],
   "source": []
  }
 ],
 "metadata": {
  "kernelspec": {
   "display_name": "s3prl_env",
   "language": "python",
   "name": "s3prl_env"
  },
  "language_info": {
   "codemirror_mode": {
    "name": "ipython",
    "version": 3
   },
   "file_extension": ".py",
   "mimetype": "text/x-python",
   "name": "python",
   "nbconvert_exporter": "python",
   "pygments_lexer": "ipython3",
   "version": "3.8.5"
  }
 },
 "nbformat": 4,
 "nbformat_minor": 5
}
