{
 "cells": [
  {
   "cell_type": "code",
   "execution_count": 118,
   "id": "eight-broadcast",
   "metadata": {},
   "outputs": [],
   "source": [
    "from TIMIT.lightning_model_uncertainty_loss import LightningModel\n",
    "import os\n",
    "import pandas as pd\n",
    "import numpy as np\n",
    "import torch\n",
    "import torchaudio\n",
    "%matplotlib inline\n",
    "from matplotlib import pyplot as plt\n",
    "from sklearn.metrics import mean_absolute_error, mean_squared_error, accuracy_score\n",
    "from IPython import embed"
   ]
  },
  {
   "cell_type": "code",
   "execution_count": 3,
   "id": "apart-effort",
   "metadata": {},
   "outputs": [
    {
     "name": "stderr",
     "output_type": "stream",
     "text": [
      "Using cache found in /root/.cache/torch/hub/s3prl_s3prl_master\n"
     ]
    },
    {
     "name": "stdout",
     "output_type": "stream",
     "text": [
      "Using cache found in /root/.cache/torch/hub/s3prl_cache/3a990c945fbe378df95598eec534e91ba22a5d9eab0b2f88777a7a696d1344e9\n",
      "for https://dl.fbaipublicfiles.com/fairseq/wav2vec/wav2vec_small.pt\n",
      "Model Details: #Params = 164364294\t#Trainable Params = 161212422\n",
      "\n"
     ]
    }
   ],
   "source": [
    "model_checkpoint = 'checkpoints/epoch=12-step=6369-v3.ckpt'\n",
    "model = LightningModel.load_from_checkpoint(model_checkpoint)\n",
    "model.to('cuda')\n",
    "model.eval()\n",
    "print()"
   ]
  },
  {
   "cell_type": "code",
   "execution_count": 40,
   "id": "coupled-separation",
   "metadata": {},
   "outputs": [
    {
     "data": {
      "text/plain": [
       "TransformerEncoderLayer(\n",
       "  (self_attn): MultiheadAttention(\n",
       "    (out_proj): NonDynamicallyQuantizableLinear(in_features=768, out_features=768, bias=True)\n",
       "  )\n",
       "  (linear1): Linear(in_features=768, out_features=2048, bias=True)\n",
       "  (dropout): Dropout(p=0.1, inplace=False)\n",
       "  (linear2): Linear(in_features=2048, out_features=768, bias=True)\n",
       "  (norm1): LayerNorm((768,), eps=1e-05, elementwise_affine=True)\n",
       "  (norm2): LayerNorm((768,), eps=1e-05, elementwise_affine=True)\n",
       "  (dropout1): Dropout(p=0.1, inplace=False)\n",
       "  (dropout2): Dropout(p=0.1, inplace=False)\n",
       ")"
      ]
     },
     "execution_count": 40,
     "metadata": {},
     "output_type": "execute_result"
    }
   ],
   "source": [
    "model.model.transformer_encoder_M.layers[-5]"
   ]
  },
  {
   "cell_type": "code",
   "execution_count": 4,
   "id": "celtic-night",
   "metadata": {},
   "outputs": [
    {
     "name": "stdout",
     "output_type": "stream",
     "text": [
      "6300 1680\n"
     ]
    }
   ],
   "source": [
    "phnFiles = os.listdir('./TIMIT_Dataset/wav_data/phn')\n",
    "testWavFiles = os.listdir('./TIMIT_Dataset/wav_data/TEST')\n",
    "phnFiles.sort()\n",
    "testWavFiles.sort()\n",
    "print(len(phnFiles), len(testWavFiles))"
   ]
  },
  {
   "cell_type": "code",
   "execution_count": 5,
   "id": "imperial-journalism",
   "metadata": {},
   "outputs": [
    {
     "data": {
      "text/plain": [
       "['FADG0_SA1.PHN',\n",
       " 'FADG0_SA2.PHN',\n",
       " 'FADG0_SI1279.PHN',\n",
       " 'FADG0_SI1909.PHN',\n",
       " 'FADG0_SI649.PHN']"
      ]
     },
     "execution_count": 5,
     "metadata": {},
     "output_type": "execute_result"
    }
   ],
   "source": [
    "phnFiles[:5]"
   ]
  },
  {
   "cell_type": "code",
   "execution_count": 6,
   "id": "otherwise-leather",
   "metadata": {},
   "outputs": [
    {
     "data": {
      "text/plain": [
       "['FADG0_SA1.WAV',\n",
       " 'FADG0_SA2.WAV',\n",
       " 'FADG0_SI1279.WAV',\n",
       " 'FADG0_SI1909.WAV',\n",
       " 'FADG0_SI649.WAV']"
      ]
     },
     "execution_count": 6,
     "metadata": {},
     "output_type": "execute_result"
    }
   ],
   "source": [
    "testWavFiles[:5]"
   ]
  },
  {
   "cell_type": "code",
   "execution_count": 48,
   "id": "dressed-hostel",
   "metadata": {},
   "outputs": [
    {
     "data": {
      "text/plain": [
       "1680"
      ]
     },
     "execution_count": 48,
     "metadata": {},
     "output_type": "execute_result"
    }
   ],
   "source": [
    "testPhnWavFiles = []\n",
    "\n",
    "for i,testWavFile in enumerate(testWavFiles):\n",
    "    if((testWavFile[:-4]+'.PHN') in phnFiles):\n",
    "        testPhnWavFiles.append(['./TIMIT_Dataset/wav_data/TEST/'+testWavFile, './TIMIT_Dataset/wav_data/phn/'+testWavFile[:-4]+'.PHN'])\n",
    "len(testPhnWavFiles)"
   ]
  },
  {
   "cell_type": "code",
   "execution_count": 49,
   "id": "violent-formation",
   "metadata": {},
   "outputs": [
    {
     "data": {
      "text/plain": [
       "[['./TIMIT_Dataset/wav_data/TEST/FADG0_SA1.WAV',\n",
       "  './TIMIT_Dataset/wav_data/phn/FADG0_SA1.PHN'],\n",
       " ['./TIMIT_Dataset/wav_data/TEST/FADG0_SA2.WAV',\n",
       "  './TIMIT_Dataset/wav_data/phn/FADG0_SA2.PHN'],\n",
       " ['./TIMIT_Dataset/wav_data/TEST/FADG0_SI1279.WAV',\n",
       "  './TIMIT_Dataset/wav_data/phn/FADG0_SI1279.PHN'],\n",
       " ['./TIMIT_Dataset/wav_data/TEST/FADG0_SI1909.WAV',\n",
       "  './TIMIT_Dataset/wav_data/phn/FADG0_SI1909.PHN'],\n",
       " ['./TIMIT_Dataset/wav_data/TEST/FADG0_SI649.WAV',\n",
       "  './TIMIT_Dataset/wav_data/phn/FADG0_SI649.PHN']]"
      ]
     },
     "execution_count": 49,
     "metadata": {},
     "output_type": "execute_result"
    }
   ],
   "source": [
    "testPhnWavFiles[:5]"
   ]
  },
  {
   "cell_type": "markdown",
   "id": "sublime-offset",
   "metadata": {},
   "source": [
    "# Phone map"
   ]
  },
  {
   "cell_type": "code",
   "execution_count": 95,
   "id": "compatible-canal",
   "metadata": {},
   "outputs": [],
   "source": [
    "# https://catalog.ldc.upenn.edu/docs/LDC93S1/PHONCODE.TXT\n",
    "symbolList = [                                      \n",
    "                  'b',          \n",
    "                  'd',          \n",
    "                  'g',          \n",
    "                  'p',          \n",
    "                  't',          \n",
    "                  'k',         \n",
    "                  'dx',         \n",
    "                  'q',          \n",
    "\n",
    "                  'jh',         \n",
    "                  'ch',         \n",
    "\n",
    "                  's',          \n",
    "                  'sh',         \n",
    "                  'z',          \n",
    "                  'zh',         \n",
    "                  'f',          \n",
    "                  'th',         \n",
    "                  'v',           \n",
    "                  'dh',         \n",
    "\n",
    "                  'm',          \n",
    "                  'n',         \n",
    "                  'ng',         \n",
    "                  'em',         \n",
    "                  'en',         \n",
    "                  'eng',        \n",
    "                  'nx',         \n",
    "                             \n",
    "                  'l',          \n",
    "                  'r',          \n",
    "                  'w',          \n",
    "                  'y',          \n",
    "                  'hh',         \n",
    "                  'hv',         \n",
    "                  'el',         \n",
    "                  \n",
    "                  'iy',        \n",
    "                  'ih',          \n",
    "                  'eh',         \n",
    "                  'ey',         \n",
    "                  'ae',         \n",
    "                  'aa',         \n",
    "                  'aw',         \n",
    "                  'ay',         \n",
    "                  'ah',         \n",
    "                  'ao',         \n",
    "                  'oy',         \n",
    "                  'ow',         \n",
    "                  'uh',         \n",
    "                  'uw',         \n",
    "                  'ux',         \n",
    "                  'er',         \n",
    "                  'ax',        \n",
    "                  'ix',        \n",
    "                  'axr',        \n",
    "                  'ax-h',      \n",
    "\n",
    "                  'pau',     \n",
    "                  'epi',     \n",
    "                  'h#',     \n",
    "                  '1',       \n",
    "                  '2' \n",
    "\n",
    "                   'bcl','dcl','gcl','pcl','tck','kcl','tcl']    "
   ]
  },
  {
   "cell_type": "code",
   "execution_count": 96,
   "id": "alleged-piano",
   "metadata": {},
   "outputs": [
    {
     "data": {
      "text/plain": [
       "63"
      ]
     },
     "execution_count": 96,
     "metadata": {},
     "output_type": "execute_result"
    }
   ],
   "source": [
    "len(symbolList)"
   ]
  },
  {
   "cell_type": "code",
   "execution_count": 108,
   "id": "forty-mauritius",
   "metadata": {},
   "outputs": [],
   "source": [
    "def getSymbolInfo(phnFile, maxProbSymbolIndices):\n",
    "    with open(testPhnWavFiles[0][1]) as f:\n",
    "        lines = f.readlines()\n",
    "    for line in lines:\n",
    "        lo, hi, symbol = line.split(\" \")\n",
    "        lo = int(lo)\n",
    "        hi = int(hi)\n",
    "        if(symbol[-1] == '\\n'):\n",
    "            symbol = symbol[:-1]\n",
    "#         print(lo, hi, symbol)\n",
    "        assert(symbol in symbolList)\n",
    "        \n",
    "        for maxProbSymbolIndex in maxProbSymbolIndices:\n",
    "            lo_ = maxProbSymbolIndex*320\n",
    "            hi_ = maxProbSymbolIndex*320+400\n",
    "            if(lo<=lo_<=hi or lo<=hi_<=hi):\n",
    "                symbolCountMap[symbol] += 1\n",
    "#                 print(lo, hi, lo_, hi_, maxProbSymbolIndex)"
   ]
  },
  {
   "cell_type": "markdown",
   "id": "incorporated-saturday",
   "metadata": {},
   "source": [
    "# Making Plots"
   ]
  },
  {
   "cell_type": "code",
   "execution_count": 98,
   "id": "pregnant-region",
   "metadata": {},
   "outputs": [],
   "source": [
    "activation_M = {}\n",
    "def get_activation_M(name):\n",
    "    def hook(model, input, output):\n",
    "        activation_M[name] = output\n",
    "    return hook\n",
    "\n",
    "activation_F = {}\n",
    "def get_activation_F(name):\n",
    "    def hook(model, input, output):\n",
    "        activation_F[name] = output\n",
    "    return hook"
   ]
  },
  {
   "cell_type": "code",
   "execution_count": 99,
   "id": "minor-friend",
   "metadata": {},
   "outputs": [],
   "source": [
    "# model"
   ]
  },
  {
   "cell_type": "code",
   "execution_count": 100,
   "id": "shared-dance",
   "metadata": {},
   "outputs": [
    {
     "data": {
      "text/plain": [
       "<torch.utils.hooks.RemovableHandle at 0x7f742e245940>"
      ]
     },
     "execution_count": 100,
     "metadata": {},
     "output_type": "execute_result"
    }
   ],
   "source": [
    "model.model.transformer_encoder_M.layers[5].self_attn.register_forward_hook(get_activation_M('attn_M'))\n",
    "model.model.transformer_encoder_F.layers[5].self_attn.register_forward_hook(get_activation_F('attn_F'))"
   ]
  },
  {
   "cell_type": "code",
   "execution_count": 111,
   "id": "gentle-leonard",
   "metadata": {},
   "outputs": [],
   "source": [
    "symbolCountMap = {x: 0 for x in symbolList}\n",
    "\n",
    "for i,testPhnWavFile in enumerate(testPhnWavFiles):\n",
    "    wav, _ = torchaudio.load(testPhnWavFile[0])\n",
    "    wav_len = [wav.shape[1]]\n",
    "    wav = wav.to('cuda')\n",
    "    y_hat_h, y_hat_a, y_hat_g = model(wav, wav_len)\n",
    "    y_hat_h = y_hat_h.to('cpu')\n",
    "    y_hat_a = y_hat_a.to('cpu')\n",
    "    y_hat_g = y_hat_g.to('cpu')\n",
    "    \n",
    "    phnFile = testPhnWavFile[1]\n",
    "    \n",
    "    if(y_hat_g>0.5):\n",
    "        activation_F['attn_F']\n",
    "        maxProbSymbolIndices = torch.max(activation_F['attn_F'][1][0], dim=1)[1].detach().cpu()\n",
    "        getSymbolInfo(phnFile, maxProbSymbolIndices)\n",
    "    else:\n",
    "        activation_M['attn_M']\n",
    "        maxProbSymbolIndices = torch.max(activation_M['attn_M'][1][0], dim=1)[1].detach().cpu()\n",
    "        getSymbolInfo(phnFile, maxProbSymbolIndices)"
   ]
  },
  {
   "cell_type": "code",
   "execution_count": 159,
   "id": "inside-giving",
   "metadata": {},
   "outputs": [
    {
     "data": {
      "text/plain": [
       "{'b': 0,\n",
       " 'd': 11942,\n",
       " 'g': 3438,\n",
       " 'p': 0,\n",
       " 't': 3385,\n",
       " 'k': 4229,\n",
       " 'dx': 3106,\n",
       " 'q': 9244,\n",
       " 'jh': 0,\n",
       " 'ch': 0,\n",
       " 's': 27575,\n",
       " 'sh': 18292,\n",
       " 'z': 0,\n",
       " 'zh': 0,\n",
       " 'f': 0,\n",
       " 'th': 0,\n",
       " 'v': 0,\n",
       " 'dh': 0,\n",
       " 'm': 0,\n",
       " 'n': 7683,\n",
       " 'ng': 0,\n",
       " 'em': 0,\n",
       " 'en': 0,\n",
       " 'eng': 0,\n",
       " 'nx': 0,\n",
       " 'l': 3459,\n",
       " 'r': 13880,\n",
       " 'w': 10603,\n",
       " 'y': 12461,\n",
       " 'hh': 0,\n",
       " 'hv': 11201,\n",
       " 'el': 0,\n",
       " 'iy': 18374,\n",
       " 'ih': 7016,\n",
       " 'eh': 0,\n",
       " 'ey': 0,\n",
       " 'ae': 18468,\n",
       " 'aa': 12256,\n",
       " 'aw': 0,\n",
       " 'ay': 0,\n",
       " 'ah': 0,\n",
       " 'ao': 25553,\n",
       " 'oy': 0,\n",
       " 'ow': 0,\n",
       " 'uh': 0,\n",
       " 'uw': 0,\n",
       " 'ux': 13177,\n",
       " 'er': 0,\n",
       " 'ax': 0,\n",
       " 'ix': 3462,\n",
       " 'axr': 24592,\n",
       " 'ax-h': 0,\n",
       " 'pau': 0,\n",
       " 'epi': 3042,\n",
       " 'h#': 24259,\n",
       " '1': 0,\n",
       " '2bcl': 0,\n",
       " 'dcl': 12054,\n",
       " 'gcl': 3569,\n",
       " 'pcl': 0,\n",
       " 'tck': 0,\n",
       " 'kcl': 8521,\n",
       " 'tcl': 4784}"
      ]
     },
     "execution_count": 159,
     "metadata": {},
     "output_type": "execute_result"
    }
   ],
   "source": [
    "symbolCountMap"
   ]
  },
  {
   "cell_type": "code",
   "execution_count": 113,
   "id": "quarterly-invite",
   "metadata": {},
   "outputs": [],
   "source": [
    "import pickle\n",
    "with open('symbolCountMap.pkl', 'wb') as f:\n",
    "    pickle.dump(symbolCountMap, f)"
   ]
  },
  {
   "cell_type": "code",
   "execution_count": 114,
   "id": "sweet-polls",
   "metadata": {},
   "outputs": [],
   "source": [
    "with open('symbolCountMap.pkl', 'rb') as f:\n",
    "    symbolCountMap = pickle.load(f)"
   ]
  },
  {
   "cell_type": "code",
   "execution_count": 144,
   "id": "laughing-biodiversity",
   "metadata": {},
   "outputs": [],
   "source": [
    "# https://catalog.ldc.upenn.edu/docs/LDC93S1/PHONCODE.TXT\n",
    "stopsSymbolList = [                                      \n",
    "                  'b',          \n",
    "                  'd',          \n",
    "                  'g',          \n",
    "                  'p',          \n",
    "                  't',          \n",
    "                  'k',         \n",
    "                  'dx',         \n",
    "                  'q',  \n",
    "'bcl','dcl','gcl','pcl','tck','kcl']\n",
    "\n",
    "affricatesSymbolList = [\n",
    "                  'jh',         \n",
    "                  'ch','dcl','tcl']     \n",
    "\n",
    "fricativesSymbolList = [\n",
    "                  's',          \n",
    "                  'sh',         \n",
    "                  'z',          \n",
    "                  'zh',         \n",
    "                  'f',          \n",
    "                  'th',         \n",
    "                  'v',           \n",
    "                  'dh',]     \n",
    "nasalsSymbolList = [\n",
    "                  'm',          \n",
    "                  'n',         \n",
    "                  'ng',         \n",
    "                  'em',         \n",
    "                  'en',         \n",
    "                  'eng',        \n",
    "                  'nx',]       \n",
    "semivowelsGlidesSymbolList = [                        \n",
    "                  'l',          \n",
    "                  'r',          \n",
    "                  'w',          \n",
    "                  'y',          \n",
    "                  'hh',         \n",
    "                  'hv',         \n",
    "                  'el',]      \n",
    "vowelsSymbolList = [            \n",
    "                  'iy',        \n",
    "                  'ih',          \n",
    "                  'eh',         \n",
    "                  'ey',         \n",
    "                  'ae',         \n",
    "                  'aa',         \n",
    "                  'aw',         \n",
    "                  'ay',         \n",
    "                  'ah',         \n",
    "                  'ao',         \n",
    "                  'oy',         \n",
    "                  'ow',         \n",
    "                  'uh',         \n",
    "                  'uw',         \n",
    "                  'ux',         \n",
    "                  'er',         \n",
    "                  'ax',        \n",
    "                  'ix',        \n",
    "                  'axr',        \n",
    "                  'ax-h',]    \n",
    "othersSymbolList = [\n",
    "                  'pau',     \n",
    "                  'epi',     \n",
    "                  'h#',     \n",
    "                  '1',       \n",
    "                  '2' ]    "
   ]
  },
  {
   "cell_type": "code",
   "execution_count": 145,
   "id": "above-looking",
   "metadata": {},
   "outputs": [],
   "source": [
    "stopsSymbolCount = 0\n",
    "affricatesSymbolCount = 0\n",
    "fricativesSymbolCount = 0\n",
    "nasalsSymbolListCount = 0\n",
    "semivowelsGlidesSymbolCount = 0\n",
    "vowelsSymbolCount = 0\n",
    "othersSymbolCount = 0"
   ]
  },
  {
   "cell_type": "code",
   "execution_count": 146,
   "id": "living-tragedy",
   "metadata": {},
   "outputs": [],
   "source": [
    "for (key,value) in symbolCountMap.items():\n",
    "    if(key in stopsSymbolList):\n",
    "        stopsSymbolCount += value\n",
    "    if(key in affricatesSymbolList):\n",
    "        affricatesSymbolCount += value\n",
    "    if(key in fricativesSymbolList):\n",
    "        fricativesSymbolCount += value\n",
    "    if(key in nasalsSymbolList):\n",
    "        nasalsSymbolListCount += value\n",
    "    if(key in semivowelsGlidesSymbolList):\n",
    "        semivowelsGlidesSymbolCount += value\n",
    "    if(key in vowelsSymbolList):\n",
    "        vowelsSymbolCount += value\n",
    "    if(key in othersSymbolList):\n",
    "        othersSymbolCount += value"
   ]
  },
  {
   "cell_type": "code",
   "execution_count": 151,
   "id": "insured-presentation",
   "metadata": {},
   "outputs": [],
   "source": [
    "categories = ['Stops', 'Affricates', 'Fricatives', 'Nasals', 'Semivowels and Glides', 'Vowels', 'Others']\n",
    "values = np.array([stopsSymbolCount, affricatesSymbolCount, fricativesSymbolCount, nasalsSymbolListCount, semivowelsGlidesSymbolCount, vowelsSymbolCount, othersSymbolCount])/max(values)"
   ]
  },
  {
   "cell_type": "code",
   "execution_count": 155,
   "id": "representative-edwards",
   "metadata": {},
   "outputs": [
    {
     "data": {
      "image/png": "[encoded data removed]",
      "text/plain": [
       "<Figure size 432x288 with 1 Axes>"
      ]
     },
     "metadata": {
      "needs_background": "light"
     },
     "output_type": "display_data"
    }
   ],
   "source": [
    "plt.barh(categories, values)\n",
    "plt.xlabel(\"Relative importance\")\n",
    "plt.ylabel(\"Types of phone\")\n",
    "plt.title(\"\")\n",
    "plt.savefig('phoneGraph.png')\n",
    "plt.show()"
   ]
  },
  {
   "cell_type": "code",
   "execution_count": 156,
   "id": "secondary-executive",
   "metadata": {},
   "outputs": [
    {
     "data": {
      "text/plain": [
       "Parameter containing:\n",
       "tensor(-0.0056, device='cuda:0', requires_grad=True)"
      ]
     },
     "execution_count": 156,
     "metadata": {},
     "output_type": "execute_result"
    }
   ],
   "source": [
    "model.uncertainty_loss.log_var_height"
   ]
  },
  {
   "cell_type": "code",
   "execution_count": 157,
   "id": "sufficient-surfing",
   "metadata": {},
   "outputs": [
    {
     "data": {
      "text/plain": [
       "Parameter containing:\n",
       "tensor(-0.0035, device='cuda:0', requires_grad=True)"
      ]
     },
     "execution_count": 157,
     "metadata": {},
     "output_type": "execute_result"
    }
   ],
   "source": [
    "model.uncertainty_loss.log_var_age"
   ]
  },
  {
   "cell_type": "code",
   "execution_count": 158,
   "id": "angry-knock",
   "metadata": {},
   "outputs": [
    {
     "data": {
      "text/plain": [
       "Parameter containing:\n",
       "tensor(-0.0065, device='cuda:0', requires_grad=True)"
      ]
     },
     "execution_count": 158,
     "metadata": {},
     "output_type": "execute_result"
    }
   ],
   "source": [
    "model.uncertainty_loss.log_var_gender"
   ]
  },
  {
   "cell_type": "code",
   "execution_count": null,
   "id": "spiritual-latino",
   "metadata": {},
   "outputs": [],
   "source": []
  }
 ],
 "metadata": {
  "kernelspec": {
   "display_name": "s3prl_env",
   "language": "python",
   "name": "s3prl_env"
  },
  "language_info": {
   "codemirror_mode": {
    "name": "ipython",
    "version": 3
   },
   "file_extension": ".py",
   "mimetype": "text/x-python",
   "name": "python",
   "nbconvert_exporter": "python",
   "pygments_lexer": "ipython3",
   "version": "3.8.5"
  }
 },
 "nbformat": 4,
 "nbformat_minor": 5
}
