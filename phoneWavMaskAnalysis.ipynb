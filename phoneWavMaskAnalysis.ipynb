{
 "cells": [
  {
   "cell_type": "code",
   "execution_count": 1,
   "id": "behavioral-colors",
   "metadata": {},
   "outputs": [
    {
     "name": "stderr",
     "output_type": "stream",
     "text": [
      "################################################################################\n",
      "### WARNING, path does not exist: KALDI_ROOT=/mnt/matylda5/iveselyk/Tools/kaldi-trunk\n",
      "###          (please add 'export KALDI_ROOT=<your_path>' in your $HOME/.profile)\n",
      "###          (or run as: KALDI_ROOT=<your_path> python <your_script>.py)\n",
      "################################################################################\n",
      "\n"
     ]
    },
    {
     "name": "stdout",
     "output_type": "stream",
     "text": [
      "Importing the dtw module. When using in academic works please cite:\n",
      "  T. Giorgino. Computing and Visualizing Dynamic Time Warping Alignments in R: The dtw Package.\n",
      "  J. Stat. Soft., doi:10.18637/jss.v031.i07.\n",
      "\n",
      "[s3prl.downstream.experts] Warning: can not import s3prl.downstream.a2a-vc-vctk.expert: No module named 'resemblyzer'. Pass.\n"
     ]
    }
   ],
   "source": [
    "from TIMIT.lightning_model_uncertainty_loss import LightningModel\n",
    "import os\n",
    "import pandas as pd\n",
    "import numpy as np\n",
    "import torch\n",
    "import torchaudio\n",
    "%matplotlib inline\n",
    "from matplotlib import pyplot as plt\n",
    "from sklearn.metrics import mean_absolute_error, mean_squared_error, accuracy_score\n",
    "from IPython import embed"
   ]
  },
  {
   "cell_type": "code",
   "execution_count": 2,
   "id": "clean-giant",
   "metadata": {},
   "outputs": [
    {
     "name": "stdout",
     "output_type": "stream",
     "text": [
      "Using cache found in /root/.cache/torch/hub/s3prl_cache/3a990c945fbe378df95598eec534e91ba22a5d9eab0b2f88777a7a696d1344e9\n",
      "for https://dl.fbaipublicfiles.com/fairseq/wav2vec/wav2vec_small.pt\n",
      "Model Details: #Params = 164364294\t#Trainable Params = 164364294\n",
      "\n"
     ]
    }
   ],
   "source": [
    "model_checkpoint = 'checkpoints/epoch=21-step=10779-v26.ckpt'\n",
    "model = LightningModel.load_from_checkpoint(model_checkpoint)\n",
    "model.to('cuda')\n",
    "model.eval()\n",
    "print()"
   ]
  },
  {
   "cell_type": "code",
   "execution_count": 3,
   "id": "ambient-israeli",
   "metadata": {},
   "outputs": [],
   "source": [
    "# model.model.transformer_encoder_M.layers[-5]"
   ]
  },
  {
   "cell_type": "code",
   "execution_count": 4,
   "id": "competent-reference",
   "metadata": {},
   "outputs": [
    {
     "name": "stdout",
     "output_type": "stream",
     "text": [
      "6301 1680\n"
     ]
    }
   ],
   "source": [
    "phnFiles = os.listdir('./TIMIT_Dataset/wav_data/phn')\n",
    "testWavFiles = os.listdir('./TIMIT_Dataset/wav_data/TEST')\n",
    "phnFiles.sort()\n",
    "testWavFiles.sort()\n",
    "print(len(phnFiles), len(testWavFiles))"
   ]
  },
  {
   "cell_type": "code",
   "execution_count": 5,
   "id": "australian-skating",
   "metadata": {},
   "outputs": [
    {
     "data": {
      "text/plain": [
       "['.ipynb_checkpoints',\n",
       " 'FADG0_SA1.PHN',\n",
       " 'FADG0_SA2.PHN',\n",
       " 'FADG0_SI1279.PHN',\n",
       " 'FADG0_SI1909.PHN']"
      ]
     },
     "execution_count": 5,
     "metadata": {},
     "output_type": "execute_result"
    }
   ],
   "source": [
    "phnFiles[:5]"
   ]
  },
  {
   "cell_type": "code",
   "execution_count": 6,
   "id": "approved-timer",
   "metadata": {},
   "outputs": [
    {
     "data": {
      "text/plain": [
       "['FADG0_SA1.WAV',\n",
       " 'FADG0_SA2.WAV',\n",
       " 'FADG0_SI1279.WAV',\n",
       " 'FADG0_SI1909.WAV',\n",
       " 'FADG0_SI649.WAV']"
      ]
     },
     "execution_count": 6,
     "metadata": {},
     "output_type": "execute_result"
    }
   ],
   "source": [
    "testWavFiles[:5]"
   ]
  },
  {
   "cell_type": "code",
   "execution_count": 7,
   "id": "incident-order",
   "metadata": {},
   "outputs": [
    {
     "data": {
      "text/plain": [
       "1680"
      ]
     },
     "execution_count": 7,
     "metadata": {},
     "output_type": "execute_result"
    }
   ],
   "source": [
    "testPhnWavFiles = []\n",
    "\n",
    "for i,testWavFile in enumerate(testWavFiles):\n",
    "    if((testWavFile[:-4]+'.PHN') in phnFiles):\n",
    "        testPhnWavFiles.append(['./TIMIT_Dataset/wav_data/TEST/'+testWavFile, './TIMIT_Dataset/wav_data/phn/'+testWavFile[:-4]+'.PHN'])\n",
    "len(testPhnWavFiles)"
   ]
  },
  {
   "cell_type": "code",
   "execution_count": 8,
   "id": "italic-silicon",
   "metadata": {},
   "outputs": [
    {
     "data": {
      "text/plain": [
       "[['./TIMIT_Dataset/wav_data/TEST/FADG0_SA1.WAV',\n",
       "  './TIMIT_Dataset/wav_data/phn/FADG0_SA1.PHN'],\n",
       " ['./TIMIT_Dataset/wav_data/TEST/FADG0_SA2.WAV',\n",
       "  './TIMIT_Dataset/wav_data/phn/FADG0_SA2.PHN'],\n",
       " ['./TIMIT_Dataset/wav_data/TEST/FADG0_SI1279.WAV',\n",
       "  './TIMIT_Dataset/wav_data/phn/FADG0_SI1279.PHN'],\n",
       " ['./TIMIT_Dataset/wav_data/TEST/FADG0_SI1909.WAV',\n",
       "  './TIMIT_Dataset/wav_data/phn/FADG0_SI1909.PHN'],\n",
       " ['./TIMIT_Dataset/wav_data/TEST/FADG0_SI649.WAV',\n",
       "  './TIMIT_Dataset/wav_data/phn/FADG0_SI649.PHN']]"
      ]
     },
     "execution_count": 8,
     "metadata": {},
     "output_type": "execute_result"
    }
   ],
   "source": [
    "testPhnWavFiles[:5]"
   ]
  },
  {
   "cell_type": "markdown",
   "id": "looking-horizon",
   "metadata": {},
   "source": [
    "# Phone map"
   ]
  },
  {
   "cell_type": "code",
   "execution_count": 9,
   "id": "awful-casino",
   "metadata": {},
   "outputs": [],
   "source": [
    "# https://catalog.ldc.upenn.edu/docs/LDC93S1/PHONCODE.TXT\n",
    "symbolList = [                                      \n",
    "                  'b',          \n",
    "                  'd',          \n",
    "                  'g',          \n",
    "                  'p',          \n",
    "                  't',          \n",
    "                  'k',         \n",
    "                  'dx',         \n",
    "                  'q',          \n",
    "\n",
    "                  'jh',         \n",
    "                  'ch',         \n",
    "\n",
    "                  's',          \n",
    "                  'sh',         \n",
    "                  'z',          \n",
    "                  'zh',         \n",
    "                  'f',          \n",
    "                  'th',         \n",
    "                  'v',           \n",
    "                  'dh',         \n",
    "\n",
    "                  'm',          \n",
    "                  'n',         \n",
    "                  'ng',         \n",
    "                  'em',         \n",
    "                  'en',         \n",
    "                  'eng',        \n",
    "                  'nx',         \n",
    "                             \n",
    "                  'l',          \n",
    "                  'r',          \n",
    "                  'w',          \n",
    "                  'y',          \n",
    "                  'hh',         \n",
    "                  'hv',         \n",
    "                  'el',         \n",
    "                  \n",
    "                  'iy',        \n",
    "                  'ih',          \n",
    "                  'eh',         \n",
    "                  'ey',         \n",
    "                  'ae',         \n",
    "                  'aa',         \n",
    "                  'aw',         \n",
    "                  'ay',         \n",
    "                  'ah',         \n",
    "                  'ao',         \n",
    "                  'oy',         \n",
    "                  'ow',         \n",
    "                  'uh',         \n",
    "                  'uw',         \n",
    "                  'ux',         \n",
    "                  'er',         \n",
    "                  'ax',        \n",
    "                  'ix',        \n",
    "                  'axr',        \n",
    "                  'ax-h',      \n",
    "\n",
    "                  'pau',     \n",
    "                  'epi',     \n",
    "                  'h#',     \n",
    "                  '1',       \n",
    "                  '2', \n",
    "\n",
    "                   'bcl','dcl','gcl','pcl','tck','kcl','tcl']    "
   ]
  },
  {
   "cell_type": "code",
   "execution_count": 10,
   "id": "exact-raleigh",
   "metadata": {},
   "outputs": [
    {
     "data": {
      "text/plain": [
       "64"
      ]
     },
     "execution_count": 10,
     "metadata": {},
     "output_type": "execute_result"
    }
   ],
   "source": [
    "len(symbolList)"
   ]
  },
  {
   "cell_type": "code",
   "execution_count": 11,
   "id": "czech-abraham",
   "metadata": {},
   "outputs": [],
   "source": [
    "from IPython import embed"
   ]
  },
  {
   "cell_type": "markdown",
   "id": "annoying-virgin",
   "metadata": {},
   "source": [
    "# Making Plots"
   ]
  },
  {
   "cell_type": "code",
   "execution_count": 17,
   "id": "brief-testament",
   "metadata": {},
   "outputs": [],
   "source": [
    "# https://catalog.ldc.upenn.edu/docs/LDC93S1/PHONCODE.TXT\n",
    "stopsSymbolList = [                                      \n",
    "                  'b',          \n",
    "                  'd',          \n",
    "                  'g',          \n",
    "                  'p',          \n",
    "                  't',          \n",
    "                  'k',         \n",
    "                  'dx',         \n",
    "                  'q']\n",
    "\n",
    "affricatesSymbolList = ['ch'\n",
    "                  'jh']     \n",
    "\n",
    "fricativesSymbolList = [\n",
    "                  's',          \n",
    "                  'sh',         \n",
    "                  'z',          \n",
    "                  'zh',         \n",
    "                  'f',          \n",
    "                  'th',         \n",
    "                  'v',           \n",
    "                  'dh',]     \n",
    "nasalsSymbolList = [\n",
    "                  'm',          \n",
    "                  'n',         \n",
    "                  'ng',         \n",
    "                  'em',         \n",
    "                  'en',         \n",
    "                  'eng',        \n",
    "                  'nx',]       \n",
    "semivowelsGlidesSymbolList = [                        \n",
    "                  'l',          \n",
    "                  'r',          \n",
    "                  'w',          \n",
    "                  'y',          \n",
    "                  'hh',         \n",
    "                  'hv',         \n",
    "                  'el',]      \n",
    "vowelsSymbolList = [            \n",
    "                  'iy',        \n",
    "                  'ih',          \n",
    "                  'eh',         \n",
    "                  'ey',         \n",
    "                  'ae',         \n",
    "                  'aa',         \n",
    "                  'aw',         \n",
    "                  'ay',         \n",
    "                  'ah',         \n",
    "                  'ao',         \n",
    "                  'oy',         \n",
    "                  'ow',         \n",
    "                  'uh',         \n",
    "                  'uw',         \n",
    "                  'ux',         \n",
    "                  'er',         \n",
    "                  'ax',        \n",
    "                  'ix',        \n",
    "                  'axr',        \n",
    "                  'ax-h',]    \n",
    "othersSymbolList = [\n",
    "                  'pau',     \n",
    "                  'epi',     \n",
    "                  'h#',     \n",
    "                  '1',       \n",
    "                  '2' ]    "
   ]
  },
  {
   "cell_type": "code",
   "execution_count": 18,
   "id": "nervous-custody",
   "metadata": {},
   "outputs": [],
   "source": [
    "df = pd.read_csv('Dataset/data_info_height_age.csv')\n",
    "h_mean = df[df['Use'] == 'TRN']['height'].mean()\n",
    "h_std = df[df['Use'] == 'TRN']['height'].std()\n",
    "a_mean = df[df['Use'] == 'TRN']['age'].mean()\n",
    "a_std = df[df['Use'] == 'TRN']['age'].std()\n",
    "df.set_index('ID', inplace=True)\n",
    "gender_dict = {'M' : 0, 'F' : 1}\n",
    "\n",
    "h_mean_male = df[(df['Use'] == 'TRN') & (df['Sex'] == 'M')]['height'].mean()\n",
    "a_mean_male = df[(df['Use'] == 'TRN') & (df['Sex'] == 'M')]['age'].mean()\n",
    "\n",
    "h_mean_female = df[(df['Use'] == 'TRN') & (df['Sex'] == 'F')]['height'].mean()\n",
    "a_mean_female = df[(df['Use'] == 'TRN') & (df['Sex'] == 'F')]['age'].mean()"
   ]
  },
  {
   "cell_type": "code",
   "execution_count": 19,
   "id": "boxed-finding",
   "metadata": {},
   "outputs": [
    {
     "name": "stdout",
     "output_type": "stream",
     "text": [
      "179.84134969325135 30.393343558282208\n",
      "165.36147058823522 29.80727941176471\n"
     ]
    }
   ],
   "source": [
    "print(h_mean_male, a_mean_male)\n",
    "print(h_mean_female, a_mean_female)"
   ]
  },
  {
   "cell_type": "code",
   "execution_count": 46,
   "id": "recovered-kazakhstan",
   "metadata": {},
   "outputs": [],
   "source": [
    "height_pred = []\n",
    "height_true = []\n",
    "age_pred = []\n",
    "age_true = []\n",
    "gender_pred = []\n",
    "gender_true = []\n",
    "\n",
    "for i,testPhnWavFile in enumerate(testPhnWavFiles):\n",
    "    wav, _ = torchaudio.load(testPhnWavFile[0])\n",
    "    wav_len = [wav.shape[1]]\n",
    "    wav = wav.to('cuda')\n",
    "    phnFile = testPhnWavFile[1]\n",
    "    \n",
    "    with open(phnFile) as f:\n",
    "        lines = f.readlines()\n",
    "    for line in lines:\n",
    "        lo, hi, symbol = line.split(\" \")\n",
    "        lo = int(lo)\n",
    "        hi = int(hi)\n",
    "        if(symbol[-1] == '\\n'):\n",
    "            symbol = symbol[:-1]\n",
    "        if (symbol in vowelsSymbolList):\n",
    "            wav[0,lo:hi] = 0\n",
    "    \n",
    "    y_hat_h, y_hat_a, y_hat_g = model(wav, wav_len)\n",
    "    y_hat_h = y_hat_h.to('cpu')\n",
    "    y_hat_a = y_hat_a.to('cpu')\n",
    "    y_hat_g = y_hat_g.to('cpu')\n",
    "    \n",
    "    height_pred.append((y_hat_h*h_std+h_mean).item())\n",
    "    age_pred.append((y_hat_a*a_std+a_mean).item())\n",
    "    gender_pred.append(y_hat_g>0.5)\n",
    "\n",
    "    id = testPhnWavFile[0][30:].split('_')[0][1:]\n",
    "    g_id = testPhnWavFile[0][30:].split('_')[0][0]\n",
    "\n",
    "    y_g = gender_dict[df.loc[id, 'Sex']]\n",
    "    y_h = df.loc[id, 'height']\n",
    "    y_a =  df.loc[id, 'age']\n",
    "    height_true.append(y_h)\n",
    "    age_true.append(y_a)\n",
    "    gender_true.append(y_g)    \n",
    "    \n",
    "#     if(i == 0):\n",
    "#         break"
   ]
  },
  {
   "cell_type": "code",
   "execution_count": 47,
   "id": "killing-extra",
   "metadata": {},
   "outputs": [
    {
     "name": "stdout",
     "output_type": "stream",
     "text": [
      "7.380669872114995 5.655118870326452 7.763985580250762 5.016331099169594\n",
      "6.34729016434969 4.955917169843401 8.071302909828747 6.04548358127049\n"
     ]
    }
   ],
   "source": [
    "female_idx = np.where(np.array(gender_true) == 1)[0].reshape(-1).tolist()\n",
    "male_idx = np.where(np.array(gender_true) == 0)[0].reshape(-1).tolist()\n",
    "\n",
    "height_true = np.array(height_true)\n",
    "height_pred = np.array(height_pred)\n",
    "age_true = np.array(age_true)\n",
    "age_pred = np.array(age_pred)\n",
    "\n",
    "hmae = mean_absolute_error(height_true[male_idx], height_pred[male_idx])\n",
    "hrmse = mean_squared_error(height_true[male_idx], height_pred[male_idx], squared=False)\n",
    "amae = mean_absolute_error(age_true[male_idx], age_pred[male_idx])\n",
    "armse = mean_squared_error(age_true[male_idx], age_pred[male_idx], squared=False)\n",
    "print(hrmse, hmae, armse, amae)\n",
    "\n",
    "hmae = mean_absolute_error(height_true[female_idx], height_pred[female_idx])\n",
    "hrmse = mean_squared_error(height_true[female_idx], height_pred[female_idx], squared=False)\n",
    "amae = mean_absolute_error(age_true[female_idx], age_pred[female_idx])\n",
    "armse = mean_squared_error(age_true[female_idx], age_pred[female_idx], squared=False)\n",
    "print(hrmse, hmae, armse, amae)"
   ]
  },
  {
   "cell_type": "code",
   "execution_count": 34,
   "id": "together-minneapolis",
   "metadata": {},
   "outputs": [],
   "source": [
    "# With no masking: \n",
    "noMask = np.array([7.233415244325654, 5.551037321908133, 5.5894605275559694, 4.0340787514959064,\n",
    "6.3426227432005735, 5.0193275048392145, 6.700610621889334, 4.668831104278564,])\n",
    "\n",
    "#With vowel masking:\n",
    "vowelMask = np.array([7.380669872114995, 5.655118870326452, 7.763985580250762, 5.016331099169594,\n",
    "6.34729016434969, 4.955917169843401, 8.071302909828747, 6.04548358127049,])\n",
    "\n",
    "# With nasal masking:\n",
    "nasalMask = np.array([7.19552751521195, 5.525854961395263, 5.729919756395839 ,4.090414264610836,\n",
    "6.347995603789645, 5.0413198852539045, 6.682625703454871, 4.752221087455749,])\n",
    "\n",
    "# With semi vowel masking:\n",
    "semiVowelMask = np.array([7.265708043165038, 5.558168871743338, 6.271451785077046, 4.247193532875605,\n",
    "6.322400202082834, 5.0032027882167265, 6.655142298550157, 4.861911989484514,])\n",
    "\n",
    "# With affricates masking:\n",
    "affricatesMask = np.array([7.233415244325654, 5.551037321908133, 5.5894605275559694, 4.0340787514959064,\n",
    "6.3426227432005735, 5.0193275048392145, 6.700610621889334, 4.668831104278564,])\n",
    "\n",
    "# With fricatives masking:\n",
    "fricativesMask = np.array([7.326146191429742, 5.660307633536203, 5.929453835115323, 4.276259066513607,\n",
    "6.524805962265495, 5.1516073869977665, 6.53886097498481, 4.760440237317766,])\n",
    "\n",
    "# With stop masking:\n",
    "stopMask = np.array([7.276793178466237, 5.570184124537876, 5.820922343011691, 4.0579382479531425,\n",
    "6.526454619386045, 5.149866971697126, 6.904805373957733, 4.968452154976981,])\n",
    "\n",
    "# With other masking:\n",
    "otherMask = np.array([7.310862375889352, 5.584817414419992, 5.915792169549828, 4.154623309748513,\n",
    "6.158481982347664, 4.923283308846609, 7.51586216541237, 5.009144041606358,])\n"
   ]
  },
  {
   "cell_type": "code",
   "execution_count": 55,
   "id": "dense-bride",
   "metadata": {},
   "outputs": [
    {
     "name": "stdout",
     "output_type": "stream",
     "text": [
      "2.04 0.07 38.9 20.46\n"
     ]
    }
   ],
   "source": [
    "a = np.round(((vowelMask-noMask)/noMask)*100, 2)\n",
    "print(a[0], a[4], a[2], a[6])"
   ]
  },
  {
   "cell_type": "code",
   "execution_count": 56,
   "id": "dangerous-stationery",
   "metadata": {},
   "outputs": [
    {
     "name": "stdout",
     "output_type": "stream",
     "text": [
      "-0.52 0.08 2.51 -0.27\n"
     ]
    }
   ],
   "source": [
    "a = np.round(((nasalMask-noMask)/noMask)*100, 2)\n",
    "print(a[0], a[4], a[2], a[6])"
   ]
  },
  {
   "cell_type": "code",
   "execution_count": 57,
   "id": "congressional-communications",
   "metadata": {},
   "outputs": [
    {
     "name": "stdout",
     "output_type": "stream",
     "text": [
      "0.45 -0.32 12.2 -0.68\n"
     ]
    }
   ],
   "source": [
    "a = np.round(((semiVowelMask-noMask)/noMask)*100, 2)\n",
    "print(a[0], a[4], a[2], a[6])"
   ]
  },
  {
   "cell_type": "code",
   "execution_count": 58,
   "id": "skilled-greece",
   "metadata": {},
   "outputs": [
    {
     "name": "stdout",
     "output_type": "stream",
     "text": [
      "0.0 0.0 0.0 0.0\n"
     ]
    }
   ],
   "source": [
    "a = np.round(((affricatesMask-noMask)/noMask)*100, 2)\n",
    "print(a[0], a[4], a[2], a[6])"
   ]
  },
  {
   "cell_type": "code",
   "execution_count": 59,
   "id": "civic-master",
   "metadata": {},
   "outputs": [
    {
     "name": "stdout",
     "output_type": "stream",
     "text": [
      "1.28 2.87 6.08 -2.41\n"
     ]
    }
   ],
   "source": [
    "a = np.round(((fricativesMask-noMask)/noMask)*100, 2)\n",
    "print(a[0], a[4], a[2], a[6])"
   ]
  },
  {
   "cell_type": "code",
   "execution_count": 60,
   "id": "russian-squad",
   "metadata": {},
   "outputs": [
    {
     "name": "stdout",
     "output_type": "stream",
     "text": [
      "0.6 2.9 4.14 3.05\n"
     ]
    }
   ],
   "source": [
    "a = np.round(((stopMask-noMask)/noMask)*100, 2)\n",
    "print(a[0], a[4], a[2], a[6])"
   ]
  },
  {
   "cell_type": "code",
   "execution_count": 61,
   "id": "different-raise",
   "metadata": {},
   "outputs": [
    {
     "name": "stdout",
     "output_type": "stream",
     "text": [
      "1.07 -2.9 5.84 12.17\n"
     ]
    }
   ],
   "source": [
    "a = np.round(((otherMask-noMask)/noMask)*100, 2)\n",
    "print(a[0], a[4], a[2], a[6])"
   ]
  },
  {
   "cell_type": "code",
   "execution_count": null,
   "id": "postal-bracket",
   "metadata": {},
   "outputs": [],
   "source": []
  },
  {
   "cell_type": "code",
   "execution_count": 76,
   "id": "conscious-wisdom",
   "metadata": {},
   "outputs": [],
   "source": [
    "plt.barh(categories, values)\n",
    "plt.xlabel(\"Relative importance\")\n",
    "plt.ylabel(\"Types of phone\")\n",
    "plt.title(\"\")\n",
    "plt.savefig('phoneGraph.png', dpi=600, bbox_inches='tight')\n",
    "plt.show()"
   ]
  },
  {
   "cell_type": "code",
   "execution_count": 15,
   "id": "oriental-testimony",
   "metadata": {},
   "outputs": [
    {
     "data": {
      "text/plain": [
       "122898"
      ]
     },
     "execution_count": 15,
     "metadata": {},
     "output_type": "execute_result"
    }
   ],
   "source": [
    "max(values)"
   ]
  },
  {
   "cell_type": "code",
   "execution_count": 156,
   "id": "opponent-analyst",
   "metadata": {},
   "outputs": [
    {
     "data": {
      "text/plain": [
       "Parameter containing:\n",
       "tensor(-0.0056, device='cuda:0', requires_grad=True)"
      ]
     },
     "execution_count": 156,
     "metadata": {},
     "output_type": "execute_result"
    }
   ],
   "source": [
    "model.uncertainty_loss.log_var_height"
   ]
  },
  {
   "cell_type": "code",
   "execution_count": 157,
   "id": "mineral-resource",
   "metadata": {},
   "outputs": [
    {
     "data": {
      "text/plain": [
       "Parameter containing:\n",
       "tensor(-0.0035, device='cuda:0', requires_grad=True)"
      ]
     },
     "execution_count": 157,
     "metadata": {},
     "output_type": "execute_result"
    }
   ],
   "source": [
    "model.uncertainty_loss.log_var_age"
   ]
  },
  {
   "cell_type": "code",
   "execution_count": 158,
   "id": "novel-recall",
   "metadata": {},
   "outputs": [
    {
     "data": {
      "text/plain": [
       "Parameter containing:\n",
       "tensor(-0.0065, device='cuda:0', requires_grad=True)"
      ]
     },
     "execution_count": 158,
     "metadata": {},
     "output_type": "execute_result"
    }
   ],
   "source": [
    "model.uncertainty_loss.log_var_gender"
   ]
  },
  {
   "cell_type": "code",
   "execution_count": null,
   "id": "million-court",
   "metadata": {},
   "outputs": [],
   "source": []
  }
 ],
 "metadata": {
  "kernelspec": {
   "display_name": "s3prl_env",
   "language": "python",
   "name": "s3prl_env"
  },
  "language_info": {
   "codemirror_mode": {
    "name": "ipython",
    "version": 3
   },
   "file_extension": ".py",
   "mimetype": "text/x-python",
   "name": "python",
   "nbconvert_exporter": "python",
   "pygments_lexer": "ipython3",
   "version": "3.8.5"
  }
 },
 "nbformat": 4,
 "nbformat_minor": 5
}
